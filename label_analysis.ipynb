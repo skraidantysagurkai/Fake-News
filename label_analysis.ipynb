{
 "cells": [
  {
   "cell_type": "code",
   "id": "initial_id",
   "metadata": {
    "collapsed": true,
    "ExecuteTime": {
     "end_time": "2024-11-24T14:28:16.273088Z",
     "start_time": "2024-11-24T14:28:10.678670Z"
    }
   },
   "source": [
    "import numpy as np\n",
    "import pandas as pd\n",
    "from paths import DATA_DIR\n",
    "\n",
    "df = pd.read_csv(DATA_DIR / 'final_final.csv')"
   ],
   "outputs": [],
   "execution_count": 63
  },
  {
   "metadata": {
    "ExecuteTime": {
     "end_time": "2024-11-24T14:28:16.289702Z",
     "start_time": "2024-11-24T14:28:16.274928Z"
    }
   },
   "cell_type": "code",
   "source": "df.head()",
   "id": "fe95a78413c50865",
   "outputs": [
    {
     "data": {
      "text/plain": [
       "   Unnamed: 0  \\\n",
       "0           0   \n",
       "1           1   \n",
       "2           2   \n",
       "3           3   \n",
       "4           4   \n",
       "\n",
       "                                                                                    title  \\\n",
       "0                   U.N. rights boss sees possible \"crimes against humanity\" in Venezuela   \n",
       "1                     Germany: A lot of Brexit work remains even if talks enter phase two   \n",
       "2  MSNBC ANCHOR Flabbergasted at What Texas Teachers Do to Protect Their Students [Video]   \n",
       "3                    Kidnapped Red Cross staff released in Afghanistan after seven months   \n",
       "4                               Two hurt after report of explosion near Glasgow, Scotland   \n",
       "\n",
       "                                                                                                                                                                                                                                                                                                                                                                                                                                                                                                                                                                                                                                                                                                                                                                                                                                                                                                                                                                                                                                                                                                                                                                                                                                                                                                                                                                                                                                                                                                                                                                                                                                                                                                                                                                                                                                                                                                                                                                                                                                                                                                                                                                                                                                                                                                                                                                                                                                                                                                                                                                                                                                                                                                                                                                                                                                                                                                                                                                                                                                                                                             text  \\\n",
       "0  GENEVA (Reuters) - The United Nations human rights chief said on Monday that Venezuelan security forces may have committed crimes against humanity against protesters and called for an international investigation. But Venezuela s foreign minister defended the record of the government of President Nicolas Maduro, rejecting the allegations as  baseless . Venezuela has been convulsed by months of demonstrations against the leftist president who critics say has plunged the oil-rich country into the worst economic crisis in its history and is turning it into a dictatorship.  My investigation suggests the possibility that crimes against humanity may have been committed, which can only be confirmed by a subsequent criminal investigation,  Zeid Ra ad al Hussein told the U.N. Human Rights Council. He said the government was using criminal proceedings against opposition leaders, arbitrary detentions, excessive use of force and ill-treatment of detainees, in some cases amounting to torture. Last month, Zeid s office said Venezuela s security forces had committed extensive and apparently deliberate human rights violations in crushing anti-government protests and that democracy was  barely alive .  There is a very real danger that tensions will further escalate, with the government crushing democratic institutions and critical voices,  Zeid said. The opposition, which boycotted the election for the Constituent Assembly, has accused electoral authorities of inflating turn-out figures for the July 30 vote. However, Foreign Minister Jorge Arreaza told the Geneva forum:  We have now selected the National Constituent Assembly, this is the true expression of our citizens  will. It will have the powers to draw up a new Constitution.    The opposition in Venezuela is back on the path of rule of law and democracy, we will see dialogue emerging thanks to mediation of our friends,  he said. Arreaza accused protesters of using firearms and  home-made weapons  against security forces, but noted that the last death was on July 30.  Our country is now at peace,  he added. Venezuela is among the 47 members of the Council, where it enjoys strong support from Cuba, Iran and other states. Diego Arria, who was Venezuela s ambassador to the United Nations in New York from 1991 to 1994, told a separate Geneva event organized by activists and action group UN Watch that Venezuela should be referred to the prosecutor of the International Criminal Court.  I am convinced that the killing in the streets equates to crimes against humanity,  he said. The Hague-based court defines such crimes as including torture, murder, deprivation of liberty, sexual violence and persecution, he said.  Julieta Lopez, aunt of opposition leader Leopoldo Lopez who remains under house arrest after three years in a military jail, said abuses continued.  There is no right to express a different political opinion without being threatened, beaten or imprisoned,  she told the same event.    \n",
       "1                                                                                                                                                                                                                                                                                                                                                                                                                                                                                                                                                                                                                                                                                                                                                                                                                                                                                                                                                                                                                                                                                                                                                                                                                                                                                                                                                                                                                                                                                                                                                                                                                                                                                                                                                                                                                                                                                                                                                                                                                                                                                                                                                                                                                                     BERLIN (Reuters) - Germany regards Friday s joint report on progress made in the negotiations on Britain s departure from the European Union as a step forward but believes much work remains even if the initial stage of Brexit talks is concluded, a spokesman said.  I think everyone understands that there is still much work for negotiators to do even if the European Council decides to move into phase two of Brexit negotiations,  German government spokesman Steffen Seibert told a regular news conference on Friday. He added that the second phase would be  highly complex . The leaders of the other 27 EU countries are due to decide next Friday whether to accept the European Commission s recommendation that sufficient progress has been made on exit talks to begin discussions on Britain s future relationship with the bloc.    \n",
       "2                                                                                                                                                                                                                                                                                                                                                                                                                                                                                                                                                                                                                                                                                                                                                                                                                                                                                                                                                                                                                                                                                                                                                                                                                                                                                                                                                                                                                                                                                                                                                                                                                                                                                                         If we protect every other government building or public venue with armed guards, why shouldn t our schools be protected with armed teachers? A Texas Sheriff shocked an MSNBC host when he discussed how he prepares local teachers to be armed in the classroom. common sense solution? You betcha!Sheriff Paul Cairney of Argyle, Texas, described the process by which staff members can carry firearms in the school district. The Sheriff said that the staff at the school who choose to carry a firearm go through an intense round of interviews and training before they are allowed to carry on campus. The MSNBC host was flabbergasted at the practice and asked the Sheriff about concerns for the safety of the students in the school when there are firearms around.Sheriff Cairney:  The time to do nothing is over THE PROCESS TO BECOME A SCHOOL MARSHALL:To become a school marshal, those employees must undergo extensive active shooter and firearms training with the state. They must also undergo a mental health evaluation. They receive a school marshal designation by the Texas Commission on Law Enforcement and must renew their license every two years by undergoing the same training and evaluation. Outside of campuses in Keene and Argyle, signs warn visitors that there are staff members who are armed and are prepared to protect children.   \n",
       "3                                                                                                                                                                                                                                                                                                                                                                                                                                                                                                                                                                                                                                                                                                                                                                                                                                                                                                                                                                                                                                                                                                                                                                                                                                                                                                                                                                                                                                                                                                                                                                                                                                                                                                                                                                                                                                                                                                                                                                                                                                                                   KABUL (Reuters) - Two Red Cross staff members kidnapped early this year in Afghanistan have been released, the International Committee of the Red Cross said on Tuesday. The two were abducted on Feb. 8 while delivering assistance in Jawzjan province, in the north of the country, on the border with Turkmenistan.  Six of their colleagues were killed in the attack, which prompted the ICRC to suspend operations in Afghanistan for a time.  We are relieved and grateful that our colleagues are now back with us unharmed, the ICRC head of delegation in Afghanistan, Monica Zanarelli, said in a statement. At the time of the attack, officials in the area blamed Islamic State gunmen but the ICRC said it would not comment on the identity of the abductors, their motives or details of the release. Kidnapping has been a major problem in Afghanistan for many years. Most victims are Afghans abducted for ransom but foreigners or Afghans working for foreign organizations have also been targeted.    \n",
       "4                                                                                                                                                                                                                                                                                                                                                                                                                                                                                                                                                                                                                                                                                                                                                                                                                                                                                                                                                                                                                                                                                                                                                                                                                                                                                                                                                                                                                                                                                                                                                                                                                                                                                                                                                                                                                                                                                                                                                                                                                                                                                                                                                                                                                                                                                                                                                                                                                                                 LONDON (Reuters) - Two people were injured on Thursday, police said, after a report of an explosion near the Scottish town of Glasgow. The blast was reported inside a building in Wishaw, southeast of Glasgow, and police said they had evacuated nearby buildings as a precaution.  Emergency services are at the scene and two injured parties are being treated by ambulance,  Lanarkshire Police said on Facebook.  Scotland s Fire and Rescue Service said it too was at the scene.  We are in attendance at Bonkle Road, Wishaw tackling small fire following small explosion in commercial building,  it posted on its Twitter feed.     \n",
       "\n",
       "   label  text_word_count  text_stopword_count  text_punct_count  \\\n",
       "0      1              460                  199                59   \n",
       "1      1              138                   62                 9   \n",
       "2      0              220                  110                17   \n",
       "3      1              164                   83                19   \n",
       "4      1              102                   42                15   \n",
       "\n",
       "   wierd_symbols_count  text_ent_count  text_hastag_count  ...  \\\n",
       "0                    1              42                  0  ...   \n",
       "1                    1              18                  0  ...   \n",
       "2                    1              11                  0  ...   \n",
       "3                    1              25                  0  ...   \n",
       "4                    1              14                  0  ...   \n",
       "\n",
       "   title_punct_count  text_polarity text_subjectivity  title_polarity  \\\n",
       "0                  2       0.006627          0.402625             0.0   \n",
       "1                  1      -0.010714          0.125137             0.0   \n",
       "2                  2      -0.113194          0.370833             0.0   \n",
       "3                  0       0.069792          0.160417             0.0   \n",
       "4                  1      -0.080000          0.260000             0.1   \n",
       "\n",
       "   title_subjectivity  text_lexical_richness  title_lexical_richness  \\\n",
       "0                 1.0               0.732342                     1.0   \n",
       "1                 0.0               0.821429                     1.0   \n",
       "2                 0.0               0.680328                     0.0   \n",
       "3                 0.0               0.818182                     0.0   \n",
       "4                 0.4               0.733333                     0.0   \n",
       "\n",
       "                                                                                                                      people_ents  \\\n",
       "0  ['Nicolas Maduro', 'Zeid Ra', 'al Hussein', 'Zeid', 'Zeid', 'Jorge Arreaza', 'Diego Arria', 'Julieta Lopez', 'Leopoldo Lopez']   \n",
       "1                                                                                         ['Brexit', 'Brexit', 'Steffen Seibert']   \n",
       "2                                                                                                      ['Paul Cairney', 'Argyle']   \n",
       "3                                                                                                            ['Monica Zanarelli']   \n",
       "4                                                                                                                      ['Wishaw']   \n",
       "\n",
       "                                                                                                                                                                                                           org_ents  \\\n",
       "0  ['Reuters', 'United Nations', 'the U.N. Human Rights Council', 'the Constituent Assembly', 'the National Constituent Assembly', 'Council', 'the United Nations', 'UN Watch', 'the International Criminal Court']   \n",
       "1                                                                                                              ['BERLIN', 'Reuters', 'the European Union', 'the European Council', 'EU', 'the European Commission']   \n",
       "2                                                                                                                                                       ['Texas Sheriff', 'MSNBC', 'MSNBC', 'the Texas Commission']   \n",
       "3                                                                                                         ['KABUL', 'Reuters', 'Red Cross', 'the International Committee of the Red Cross', 'ICRC', 'ICRC', 'ICRC']   \n",
       "4                                                                                                                                                                  ['Reuters', 'Wishaw', 'Fire and Rescue Service']   \n",
       "\n",
       "                                                                                                                                                                                                                                                                                                                                                                                                                                                                                                                                                                                                                                                                                                                                                                                                                                                                                                                                                                                                                                                                                                                                                                                                                                                                                                                                                                                                                                                                                                                                                                                                                                                                                                                                                                                                                                                                                                                                                                                                                                                                                                                                                   processed_text2  \n",
       "0  geneva reuters   united nations human rights chief said monday venezuelan security forces committed crimes humanity protesters called international investigation venezuela s foreign minister defended record government president nicolas maduro rejecting allegations baseless   venezuela convulsed months demonstrations leftist president critics plunged oilrich country worst economic crisis history turning dictatorship investigation suggests possibility crimes humanity committed confirmed subsequent criminal investigation zeid ra ad al hussein told youn human rights council said government criminal proceedings opposition leaders arbitrary detentions excessive use force illtreatment detainees cases amounting torture month zeid s office said venezuela s security forces committed extensive apparently deliberate human rights violations crushing antigovernment protests democracy barely alive   real danger tensions escalate government crushing democratic institutions critical voices zeid said opposition boycotted election constituent assembly accused electoral authorities inflating turnout figures july   vote foreign minister jorge arreaza told geneva forum selected national constituent assembly true expression citizens powers draw new constitution opposition venezuela path rule law democracy dialogue emerging thanks mediation friends said arreaza accused protesters firearms homemade weapons security forces noted death july   country peace added venezuela   members council enjoys strong support cuba iran states diego arria venezuela s ambassador united nations new york     told separate geneva event organized activists action group un watch venezuela referred prosecutor international criminal court convinced killing streets equates crimes humanity said haguebased court defines crimes including torture murder deprivation liberty sexual violence persecution said julieta lopez aunt opposition leader leopoldo lopez remains house arrest years military jail said abuses continued right express different political opinion threatened beaten imprisoned told event  \n",
       "1                                                                                                                                                                                                                                                                                                                                                                                                                                                                                                                                                                                                                                                                                                                                                                                                                                                                                                                                                                                                                                                                                                                                                                                                                                                                                                                                                                                                                                                                                                                                                                            berlin reuters   germany regards friday s joint report progress negotiations britain s departure european union step forward believes work remains initial stage brexit talks concluded spokesman said think understands work negotiators european council decides phase brexit negotiations german government spokesman steffen seibert told regular news conference friday added second phase highly complex   leaders   eu countries decide friday accept european commission s recommendation sufficient progress exit talks begin discussions britain s future relationship bloc  \n",
       "2                                                                                                                                                                                                                                                                                                                                                                                                                                                                                                                                                                                                                                                                                                                                                                                                                                                                                                                                                                                                                                                                                                                                                                                                                                                   protect government building public venue armed guards shouldn t schools protected armed teachers texas sheriff shocked msnbc host discussed prepares local teachers armed classroom common sense solution betchasheriff paul cairney argyle texas described process staff members carry firearms school district sheriff said staff school choose carry firearm intense round interviews training allowed carry campus msnbc host flabbergasted practice asked sheriff concerns safety students school firearms aroundsheriff cairney time process school marshallto school marshal employees undergo extensive active shooter firearms training state undergo mental health evaluation receive school marshal designation texas commission law enforcement renew license years undergoing training evaluation outside campuses keene argyle signs warn visitors staff members armed prepared protect children  \n",
       "3                                                                                                                                                                                                                                                                                                                                                                                                                                                                                                                                                                                                                                                                                                                                                                                                                                                                                                                                                                                                                                                                                                                                                                                                                                                                                                                                                                                                                                                                                         kabul reuters   red cross staff members kidnapped early year afghanistan released international committee red cross said tuesday abducted february   delivering assistance jawzjan province north country border turkmenistan colleagues killed attack prompted icrc suspend operations afghanistan time relieved grateful colleagues unharmed icrc head delegation afghanistan monica zanarelli said statement time attack officials area blamed islamic state gunmen icrc said comment identity abductors motives details release kidnapping major problem afghanistan years victims afghans abducted ransom foreigners afghans working foreign organizations targeted  \n",
       "4                                                                                                                                                                                                                                                                                                                                                                                                                                                                                                                                                                                                                                                                                                                                                                                                                                                                                                                                                                                                                                                                                                                                                                                                                                                                                                                                                                                                                                                                                                                                                                                                                                                                                             london reuters   people injured thursday police said report explosion near scottish town glasgow blast reported inside building wishaw southeast glasgow police said evacuated nearby buildings precaution emergency services scene injured parties treated ambulance lanarkshire police said facebook scotland s fire rescue service said scene attendance bonkle road wishaw tackling small fire following small explosion commercial building posted twitter feed  \n",
       "\n",
       "[5 rows x 28 columns]"
      ],
      "text/html": [
       "<div>\n",
       "<style scoped>\n",
       "    .dataframe tbody tr th:only-of-type {\n",
       "        vertical-align: middle;\n",
       "    }\n",
       "\n",
       "    .dataframe tbody tr th {\n",
       "        vertical-align: top;\n",
       "    }\n",
       "\n",
       "    .dataframe thead th {\n",
       "        text-align: right;\n",
       "    }\n",
       "</style>\n",
       "<table border=\"1\" class=\"dataframe\">\n",
       "  <thead>\n",
       "    <tr style=\"text-align: right;\">\n",
       "      <th></th>\n",
       "      <th>Unnamed: 0</th>\n",
       "      <th>title</th>\n",
       "      <th>text</th>\n",
       "      <th>label</th>\n",
       "      <th>text_word_count</th>\n",
       "      <th>text_stopword_count</th>\n",
       "      <th>text_punct_count</th>\n",
       "      <th>wierd_symbols_count</th>\n",
       "      <th>text_ent_count</th>\n",
       "      <th>text_hastag_count</th>\n",
       "      <th>...</th>\n",
       "      <th>title_punct_count</th>\n",
       "      <th>text_polarity</th>\n",
       "      <th>text_subjectivity</th>\n",
       "      <th>title_polarity</th>\n",
       "      <th>title_subjectivity</th>\n",
       "      <th>text_lexical_richness</th>\n",
       "      <th>title_lexical_richness</th>\n",
       "      <th>people_ents</th>\n",
       "      <th>org_ents</th>\n",
       "      <th>processed_text2</th>\n",
       "    </tr>\n",
       "  </thead>\n",
       "  <tbody>\n",
       "    <tr>\n",
       "      <th>0</th>\n",
       "      <td>0</td>\n",
       "      <td>U.N. rights boss sees possible \"crimes against humanity\" in Venezuela</td>\n",
       "      <td>GENEVA (Reuters) - The United Nations human rights chief said on Monday that Venezuelan security forces may have committed crimes against humanity against protesters and called for an international investigation. But Venezuela s foreign minister defended the record of the government of President Nicolas Maduro, rejecting the allegations as  baseless . Venezuela has been convulsed by months of demonstrations against the leftist president who critics say has plunged the oil-rich country into the worst economic crisis in its history and is turning it into a dictatorship.  My investigation suggests the possibility that crimes against humanity may have been committed, which can only be confirmed by a subsequent criminal investigation,  Zeid Ra ad al Hussein told the U.N. Human Rights Council. He said the government was using criminal proceedings against opposition leaders, arbitrary detentions, excessive use of force and ill-treatment of detainees, in some cases amounting to torture. Last month, Zeid s office said Venezuela s security forces had committed extensive and apparently deliberate human rights violations in crushing anti-government protests and that democracy was  barely alive .  There is a very real danger that tensions will further escalate, with the government crushing democratic institutions and critical voices,  Zeid said. The opposition, which boycotted the election for the Constituent Assembly, has accused electoral authorities of inflating turn-out figures for the July 30 vote. However, Foreign Minister Jorge Arreaza told the Geneva forum:  We have now selected the National Constituent Assembly, this is the true expression of our citizens  will. It will have the powers to draw up a new Constitution.    The opposition in Venezuela is back on the path of rule of law and democracy, we will see dialogue emerging thanks to mediation of our friends,  he said. Arreaza accused protesters of using firearms and  home-made weapons  against security forces, but noted that the last death was on July 30.  Our country is now at peace,  he added. Venezuela is among the 47 members of the Council, where it enjoys strong support from Cuba, Iran and other states. Diego Arria, who was Venezuela s ambassador to the United Nations in New York from 1991 to 1994, told a separate Geneva event organized by activists and action group UN Watch that Venezuela should be referred to the prosecutor of the International Criminal Court.  I am convinced that the killing in the streets equates to crimes against humanity,  he said. The Hague-based court defines such crimes as including torture, murder, deprivation of liberty, sexual violence and persecution, he said.  Julieta Lopez, aunt of opposition leader Leopoldo Lopez who remains under house arrest after three years in a military jail, said abuses continued.  There is no right to express a different political opinion without being threatened, beaten or imprisoned,  she told the same event.</td>\n",
       "      <td>1</td>\n",
       "      <td>460</td>\n",
       "      <td>199</td>\n",
       "      <td>59</td>\n",
       "      <td>1</td>\n",
       "      <td>42</td>\n",
       "      <td>0</td>\n",
       "      <td>...</td>\n",
       "      <td>2</td>\n",
       "      <td>0.006627</td>\n",
       "      <td>0.402625</td>\n",
       "      <td>0.0</td>\n",
       "      <td>1.0</td>\n",
       "      <td>0.732342</td>\n",
       "      <td>1.0</td>\n",
       "      <td>['Nicolas Maduro', 'Zeid Ra', 'al Hussein', 'Zeid', 'Zeid', 'Jorge Arreaza', 'Diego Arria', 'Julieta Lopez', 'Leopoldo Lopez']</td>\n",
       "      <td>['Reuters', 'United Nations', 'the U.N. Human Rights Council', 'the Constituent Assembly', 'the National Constituent Assembly', 'Council', 'the United Nations', 'UN Watch', 'the International Criminal Court']</td>\n",
       "      <td>geneva reuters   united nations human rights chief said monday venezuelan security forces committed crimes humanity protesters called international investigation venezuela s foreign minister defended record government president nicolas maduro rejecting allegations baseless   venezuela convulsed months demonstrations leftist president critics plunged oilrich country worst economic crisis history turning dictatorship investigation suggests possibility crimes humanity committed confirmed subsequent criminal investigation zeid ra ad al hussein told youn human rights council said government criminal proceedings opposition leaders arbitrary detentions excessive use force illtreatment detainees cases amounting torture month zeid s office said venezuela s security forces committed extensive apparently deliberate human rights violations crushing antigovernment protests democracy barely alive   real danger tensions escalate government crushing democratic institutions critical voices zeid said opposition boycotted election constituent assembly accused electoral authorities inflating turnout figures july   vote foreign minister jorge arreaza told geneva forum selected national constituent assembly true expression citizens powers draw new constitution opposition venezuela path rule law democracy dialogue emerging thanks mediation friends said arreaza accused protesters firearms homemade weapons security forces noted death july   country peace added venezuela   members council enjoys strong support cuba iran states diego arria venezuela s ambassador united nations new york     told separate geneva event organized activists action group un watch venezuela referred prosecutor international criminal court convinced killing streets equates crimes humanity said haguebased court defines crimes including torture murder deprivation liberty sexual violence persecution said julieta lopez aunt opposition leader leopoldo lopez remains house arrest years military jail said abuses continued right express different political opinion threatened beaten imprisoned told event</td>\n",
       "    </tr>\n",
       "    <tr>\n",
       "      <th>1</th>\n",
       "      <td>1</td>\n",
       "      <td>Germany: A lot of Brexit work remains even if talks enter phase two</td>\n",
       "      <td>BERLIN (Reuters) - Germany regards Friday s joint report on progress made in the negotiations on Britain s departure from the European Union as a step forward but believes much work remains even if the initial stage of Brexit talks is concluded, a spokesman said.  I think everyone understands that there is still much work for negotiators to do even if the European Council decides to move into phase two of Brexit negotiations,  German government spokesman Steffen Seibert told a regular news conference on Friday. He added that the second phase would be  highly complex . The leaders of the other 27 EU countries are due to decide next Friday whether to accept the European Commission s recommendation that sufficient progress has been made on exit talks to begin discussions on Britain s future relationship with the bloc.</td>\n",
       "      <td>1</td>\n",
       "      <td>138</td>\n",
       "      <td>62</td>\n",
       "      <td>9</td>\n",
       "      <td>1</td>\n",
       "      <td>18</td>\n",
       "      <td>0</td>\n",
       "      <td>...</td>\n",
       "      <td>1</td>\n",
       "      <td>-0.010714</td>\n",
       "      <td>0.125137</td>\n",
       "      <td>0.0</td>\n",
       "      <td>0.0</td>\n",
       "      <td>0.821429</td>\n",
       "      <td>1.0</td>\n",
       "      <td>['Brexit', 'Brexit', 'Steffen Seibert']</td>\n",
       "      <td>['BERLIN', 'Reuters', 'the European Union', 'the European Council', 'EU', 'the European Commission']</td>\n",
       "      <td>berlin reuters   germany regards friday s joint report progress negotiations britain s departure european union step forward believes work remains initial stage brexit talks concluded spokesman said think understands work negotiators european council decides phase brexit negotiations german government spokesman steffen seibert told regular news conference friday added second phase highly complex   leaders   eu countries decide friday accept european commission s recommendation sufficient progress exit talks begin discussions britain s future relationship bloc</td>\n",
       "    </tr>\n",
       "    <tr>\n",
       "      <th>2</th>\n",
       "      <td>2</td>\n",
       "      <td>MSNBC ANCHOR Flabbergasted at What Texas Teachers Do to Protect Their Students [Video]</td>\n",
       "      <td>If we protect every other government building or public venue with armed guards, why shouldn t our schools be protected with armed teachers? A Texas Sheriff shocked an MSNBC host when he discussed how he prepares local teachers to be armed in the classroom. common sense solution? You betcha!Sheriff Paul Cairney of Argyle, Texas, described the process by which staff members can carry firearms in the school district. The Sheriff said that the staff at the school who choose to carry a firearm go through an intense round of interviews and training before they are allowed to carry on campus. The MSNBC host was flabbergasted at the practice and asked the Sheriff about concerns for the safety of the students in the school when there are firearms around.Sheriff Cairney:  The time to do nothing is over THE PROCESS TO BECOME A SCHOOL MARSHALL:To become a school marshal, those employees must undergo extensive active shooter and firearms training with the state. They must also undergo a mental health evaluation. They receive a school marshal designation by the Texas Commission on Law Enforcement and must renew their license every two years by undergoing the same training and evaluation. Outside of campuses in Keene and Argyle, signs warn visitors that there are staff members who are armed and are prepared to protect children.</td>\n",
       "      <td>0</td>\n",
       "      <td>220</td>\n",
       "      <td>110</td>\n",
       "      <td>17</td>\n",
       "      <td>1</td>\n",
       "      <td>11</td>\n",
       "      <td>0</td>\n",
       "      <td>...</td>\n",
       "      <td>2</td>\n",
       "      <td>-0.113194</td>\n",
       "      <td>0.370833</td>\n",
       "      <td>0.0</td>\n",
       "      <td>0.0</td>\n",
       "      <td>0.680328</td>\n",
       "      <td>0.0</td>\n",
       "      <td>['Paul Cairney', 'Argyle']</td>\n",
       "      <td>['Texas Sheriff', 'MSNBC', 'MSNBC', 'the Texas Commission']</td>\n",
       "      <td>protect government building public venue armed guards shouldn t schools protected armed teachers texas sheriff shocked msnbc host discussed prepares local teachers armed classroom common sense solution betchasheriff paul cairney argyle texas described process staff members carry firearms school district sheriff said staff school choose carry firearm intense round interviews training allowed carry campus msnbc host flabbergasted practice asked sheriff concerns safety students school firearms aroundsheriff cairney time process school marshallto school marshal employees undergo extensive active shooter firearms training state undergo mental health evaluation receive school marshal designation texas commission law enforcement renew license years undergoing training evaluation outside campuses keene argyle signs warn visitors staff members armed prepared protect children</td>\n",
       "    </tr>\n",
       "    <tr>\n",
       "      <th>3</th>\n",
       "      <td>3</td>\n",
       "      <td>Kidnapped Red Cross staff released in Afghanistan after seven months</td>\n",
       "      <td>KABUL (Reuters) - Two Red Cross staff members kidnapped early this year in Afghanistan have been released, the International Committee of the Red Cross said on Tuesday. The two were abducted on Feb. 8 while delivering assistance in Jawzjan province, in the north of the country, on the border with Turkmenistan.  Six of their colleagues were killed in the attack, which prompted the ICRC to suspend operations in Afghanistan for a time.  We are relieved and grateful that our colleagues are now back with us unharmed, the ICRC head of delegation in Afghanistan, Monica Zanarelli, said in a statement. At the time of the attack, officials in the area blamed Islamic State gunmen but the ICRC said it would not comment on the identity of the abductors, their motives or details of the release. Kidnapping has been a major problem in Afghanistan for many years. Most victims are Afghans abducted for ransom but foreigners or Afghans working for foreign organizations have also been targeted.</td>\n",
       "      <td>1</td>\n",
       "      <td>164</td>\n",
       "      <td>83</td>\n",
       "      <td>19</td>\n",
       "      <td>1</td>\n",
       "      <td>25</td>\n",
       "      <td>0</td>\n",
       "      <td>...</td>\n",
       "      <td>0</td>\n",
       "      <td>0.069792</td>\n",
       "      <td>0.160417</td>\n",
       "      <td>0.0</td>\n",
       "      <td>0.0</td>\n",
       "      <td>0.818182</td>\n",
       "      <td>0.0</td>\n",
       "      <td>['Monica Zanarelli']</td>\n",
       "      <td>['KABUL', 'Reuters', 'Red Cross', 'the International Committee of the Red Cross', 'ICRC', 'ICRC', 'ICRC']</td>\n",
       "      <td>kabul reuters   red cross staff members kidnapped early year afghanistan released international committee red cross said tuesday abducted february   delivering assistance jawzjan province north country border turkmenistan colleagues killed attack prompted icrc suspend operations afghanistan time relieved grateful colleagues unharmed icrc head delegation afghanistan monica zanarelli said statement time attack officials area blamed islamic state gunmen icrc said comment identity abductors motives details release kidnapping major problem afghanistan years victims afghans abducted ransom foreigners afghans working foreign organizations targeted</td>\n",
       "    </tr>\n",
       "    <tr>\n",
       "      <th>4</th>\n",
       "      <td>4</td>\n",
       "      <td>Two hurt after report of explosion near Glasgow, Scotland</td>\n",
       "      <td>LONDON (Reuters) - Two people were injured on Thursday, police said, after a report of an explosion near the Scottish town of Glasgow. The blast was reported inside a building in Wishaw, southeast of Glasgow, and police said they had evacuated nearby buildings as a precaution.  Emergency services are at the scene and two injured parties are being treated by ambulance,  Lanarkshire Police said on Facebook.  Scotland s Fire and Rescue Service said it too was at the scene.  We are in attendance at Bonkle Road, Wishaw tackling small fire following small explosion in commercial building,  it posted on its Twitter feed.</td>\n",
       "      <td>1</td>\n",
       "      <td>102</td>\n",
       "      <td>42</td>\n",
       "      <td>15</td>\n",
       "      <td>1</td>\n",
       "      <td>14</td>\n",
       "      <td>0</td>\n",
       "      <td>...</td>\n",
       "      <td>1</td>\n",
       "      <td>-0.080000</td>\n",
       "      <td>0.260000</td>\n",
       "      <td>0.1</td>\n",
       "      <td>0.4</td>\n",
       "      <td>0.733333</td>\n",
       "      <td>0.0</td>\n",
       "      <td>['Wishaw']</td>\n",
       "      <td>['Reuters', 'Wishaw', 'Fire and Rescue Service']</td>\n",
       "      <td>london reuters   people injured thursday police said report explosion near scottish town glasgow blast reported inside building wishaw southeast glasgow police said evacuated nearby buildings precaution emergency services scene injured parties treated ambulance lanarkshire police said facebook scotland s fire rescue service said scene attendance bonkle road wishaw tackling small fire following small explosion commercial building posted twitter feed</td>\n",
       "    </tr>\n",
       "  </tbody>\n",
       "</table>\n",
       "<p>5 rows × 28 columns</p>\n",
       "</div>"
      ]
     },
     "execution_count": 64,
     "metadata": {},
     "output_type": "execute_result"
    }
   ],
   "execution_count": 64
  },
  {
   "metadata": {
    "ExecuteTime": {
     "end_time": "2024-11-24T14:28:16.298665Z",
     "start_time": "2024-11-24T14:28:16.292588Z"
    }
   },
   "cell_type": "code",
   "source": "df.columns",
   "id": "85d0e509e59b5d08",
   "outputs": [
    {
     "data": {
      "text/plain": [
       "Index(['Unnamed: 0', 'title', 'text', 'label', 'text_word_count',\n",
       "       'text_stopword_count', 'text_punct_count', 'wierd_symbols_count',\n",
       "       'text_ent_count', 'text_hastag_count', 'text_mention_count',\n",
       "       'text_url_count', 'processed_text', 'title_word_count',\n",
       "       'title_hastag_count', 'title_mention_count', 'title_url_count',\n",
       "       'title_stopword_count', 'title_punct_count', 'text_polarity',\n",
       "       'text_subjectivity', 'title_polarity', 'title_subjectivity',\n",
       "       'text_lexical_richness', 'title_lexical_richness', 'people_ents',\n",
       "       'org_ents', 'processed_text2'],\n",
       "      dtype='object')"
      ]
     },
     "execution_count": 65,
     "metadata": {},
     "output_type": "execute_result"
    }
   ],
   "execution_count": 65
  },
  {
   "metadata": {
    "ExecuteTime": {
     "end_time": "2024-11-24T14:28:16.316753Z",
     "start_time": "2024-11-24T14:28:16.301923Z"
    }
   },
   "cell_type": "code",
   "source": "df.processed_text[1]",
   "id": "2f5664dc1d86532a",
   "outputs": [
    {
     "data": {
      "text/plain": [
       "'berlin reuters  germany regards friday s joint report on progress made in the negotiations on britain s departure from the european union as a step forward but believes much work remains even if the initial stage of brexit talks is concluded a spokesman said i think everyone understands that there is still much work for negotiators to do even if the european council decides to move into phase two of brexit negotiations german government spokesman steffen seibert told a regular news conference on friday he added that the second phase would be highly complex  the leaders of the other  eu countries are due to decide next friday whether to accept the european commission s recommendation that sufficient progress has been made on exit talks to begin discussions on britain s future relationship with the bloc'"
      ]
     },
     "execution_count": 66,
     "metadata": {},
     "output_type": "execute_result"
    }
   ],
   "execution_count": 66
  },
  {
   "metadata": {
    "ExecuteTime": {
     "end_time": "2024-11-24T14:28:16.326301Z",
     "start_time": "2024-11-24T14:28:16.318602Z"
    }
   },
   "cell_type": "code",
   "source": "df.processed_text2[1]",
   "id": "ce4d3a9eda995b2b",
   "outputs": [
    {
     "data": {
      "text/plain": [
       "'berlin reuters   germany regards friday s joint report progress negotiations britain s departure european union step forward believes work remains initial stage brexit talks concluded spokesman said think understands work negotiators european council decides phase brexit negotiations german government spokesman steffen seibert told regular news conference friday added second phase highly complex   leaders   eu countries decide friday accept european commission s recommendation sufficient progress exit talks begin discussions britain s future relationship bloc'"
      ]
     },
     "execution_count": 67,
     "metadata": {},
     "output_type": "execute_result"
    }
   ],
   "execution_count": 67
  },
  {
   "metadata": {
    "ExecuteTime": {
     "end_time": "2024-11-24T14:28:16.333499Z",
     "start_time": "2024-11-24T14:28:16.328153Z"
    }
   },
   "cell_type": "code",
   "source": "df.text[0]",
   "id": "2be0c8b6639296f9",
   "outputs": [
    {
     "data": {
      "text/plain": [
       "'GENEVA (Reuters) - The United Nations human rights chief said on Monday that Venezuelan security forces may have committed crimes against humanity against protesters and called for an international investigation. But Venezuela s foreign minister defended the record of the government of President Nicolas Maduro, rejecting the allegations as  baseless . Venezuela has been convulsed by months of demonstrations against the leftist president who critics say has plunged the oil-rich country into the worst economic crisis in its history and is turning it into a dictatorship.  My investigation suggests the possibility that crimes against humanity may have been committed, which can only be confirmed by a subsequent criminal investigation,  Zeid Ra ad al Hussein told the U.N. Human Rights Council. He said the government was using criminal proceedings against opposition leaders, arbitrary detentions, excessive use of force and ill-treatment of detainees, in some cases amounting to torture. Last month, Zeid s office said Venezuela s security forces had committed extensive and apparently deliberate human rights violations in crushing anti-government protests and that democracy was  barely alive .  There is a very real danger that tensions will further escalate, with the government crushing democratic institutions and critical voices,  Zeid said. The opposition, which boycotted the election for the Constituent Assembly, has accused electoral authorities of inflating turn-out figures for the July 30 vote. However, Foreign Minister Jorge Arreaza told the Geneva forum:  We have now selected the National Constituent Assembly, this is the true expression of our citizens  will. It will have the powers to draw up a new Constitution.    The opposition in Venezuela is back on the path of rule of law and democracy, we will see dialogue emerging thanks to mediation of our friends,  he said. Arreaza accused protesters of using firearms and  home-made weapons  against security forces, but noted that the last death was on July 30.  Our country is now at peace,  he added. Venezuela is among the 47 members of the Council, where it enjoys strong support from Cuba, Iran and other states. Diego Arria, who was Venezuela s ambassador to the United Nations in New York from 1991 to 1994, told a separate Geneva event organized by activists and action group UN Watch that Venezuela should be referred to the prosecutor of the International Criminal Court.  I am convinced that the killing in the streets equates to crimes against humanity,  he said. The Hague-based court defines such crimes as including torture, murder, deprivation of liberty, sexual violence and persecution, he said.  Julieta Lopez, aunt of opposition leader Leopoldo Lopez who remains under house arrest after three years in a military jail, said abuses continued.  There is no right to express a different political opinion without being threatened, beaten or imprisoned,  she told the same event. '"
      ]
     },
     "execution_count": 68,
     "metadata": {},
     "output_type": "execute_result"
    }
   ],
   "execution_count": 68
  },
  {
   "metadata": {
    "ExecuteTime": {
     "end_time": "2024-11-24T14:28:16.339918Z",
     "start_time": "2024-11-24T14:28:16.335663Z"
    }
   },
   "cell_type": "code",
   "source": [
    "import re\n",
    "def process(text:str):\n",
    "    try:\n",
    "        media_loc = text.split('   ')[0]\n",
    "        other_text = ' '.join(text.split('   ')[1:])\n",
    "        if len(media_loc) < len(other_text):\n",
    "            text = other_text\n",
    "    except Exception as e:\n",
    "        media_loc = ''\n",
    "    text = re.sub(r'\\b[sS]\\b', '', text)\n",
    "    text = re.sub(r'\\s+', ' ', text).strip()\n",
    "    return text, media_loc"
   ],
   "id": "9fcf5626596b56e8",
   "outputs": [],
   "execution_count": 69
  },
  {
   "metadata": {
    "ExecuteTime": {
     "end_time": "2024-11-24T14:28:19.953417Z",
     "start_time": "2024-11-24T14:28:16.341345Z"
    }
   },
   "cell_type": "code",
   "source": "processed_tuples = [process(f) for f in df.processed_text2.tolist()]",
   "id": "14cb3287f51055e6",
   "outputs": [],
   "execution_count": 70
  },
  {
   "metadata": {
    "ExecuteTime": {
     "end_time": "2024-11-24T14:28:19.980389Z",
     "start_time": "2024-11-24T14:28:19.955029Z"
    }
   },
   "cell_type": "code",
   "source": [
    "text = [f[0] for f in processed_tuples]\n",
    "media = [f[1] for f in processed_tuples]"
   ],
   "id": "7b59edf4dda4e4b9",
   "outputs": [],
   "execution_count": 71
  },
  {
   "metadata": {
    "ExecuteTime": {
     "end_time": "2024-11-24T14:28:19.990125Z",
     "start_time": "2024-11-24T14:28:19.985843Z"
    }
   },
   "cell_type": "code",
   "source": "labels = df.label.tolist()",
   "id": "8aa8a6bb23accc28",
   "outputs": [],
   "execution_count": 72
  },
  {
   "metadata": {
    "ExecuteTime": {
     "end_time": "2024-11-24T14:28:20.001324Z",
     "start_time": "2024-11-24T14:28:19.992801Z"
    }
   },
   "cell_type": "code",
   "source": "df.title.tolist()[905]",
   "id": "d34492622dedbed4",
   "outputs": [
    {
     "data": {
      "text/plain": [
       "\"Turkey detains main opposition leader's lawyer over coup links\""
      ]
     },
     "execution_count": 73,
     "metadata": {},
     "output_type": "execute_result"
    }
   ],
   "execution_count": 73
  },
  {
   "metadata": {
    "ExecuteTime": {
     "end_time": "2024-11-24T14:28:21.238537Z",
     "start_time": "2024-11-24T14:28:20.009065Z"
    }
   },
   "cell_type": "code",
   "source": [
    "import spacy\n",
    "\n",
    "nlp = spacy.load(\"en_core_web_md\")"
   ],
   "id": "52bf36b38c4b2503",
   "outputs": [],
   "execution_count": 74
  },
  {
   "metadata": {
    "ExecuteTime": {
     "end_time": "2024-11-24T14:35:18.231383Z",
     "start_time": "2024-11-24T14:28:21.240056Z"
    }
   },
   "cell_type": "code",
   "source": "text_vectors = np.array([nlp(f).vector for f in text])",
   "id": "bb1b2c5c19a57f16",
   "outputs": [
    {
     "ename": "KeyboardInterrupt",
     "evalue": "",
     "output_type": "error",
     "traceback": [
      "\u001B[0;31m---------------------------------------------------------------------------\u001B[0m",
      "\u001B[0;31mKeyboardInterrupt\u001B[0m                         Traceback (most recent call last)",
      "Cell \u001B[0;32mIn[75], line 1\u001B[0m\n\u001B[0;32m----> 1\u001B[0m text_vectors \u001B[38;5;241m=\u001B[39m np\u001B[38;5;241m.\u001B[39marray([\u001B[43mnlp\u001B[49m\u001B[43m(\u001B[49m\u001B[43mf\u001B[49m\u001B[43m)\u001B[49m\u001B[38;5;241m.\u001B[39mvector \u001B[38;5;28;01mfor\u001B[39;00m f \u001B[38;5;129;01min\u001B[39;00m text])\n",
      "File \u001B[0;32m~/anaconda3/envs/fake-news/lib/python3.12/site-packages/spacy/language.py:1052\u001B[0m, in \u001B[0;36mLanguage.__call__\u001B[0;34m(self, text, disable, component_cfg)\u001B[0m\n\u001B[1;32m   1050\u001B[0m     error_handler \u001B[38;5;241m=\u001B[39m proc\u001B[38;5;241m.\u001B[39mget_error_handler()\n\u001B[1;32m   1051\u001B[0m \u001B[38;5;28;01mtry\u001B[39;00m:\n\u001B[0;32m-> 1052\u001B[0m     doc \u001B[38;5;241m=\u001B[39m \u001B[43mproc\u001B[49m\u001B[43m(\u001B[49m\u001B[43mdoc\u001B[49m\u001B[43m,\u001B[49m\u001B[43m \u001B[49m\u001B[38;5;241;43m*\u001B[39;49m\u001B[38;5;241;43m*\u001B[39;49m\u001B[43mcomponent_cfg\u001B[49m\u001B[38;5;241;43m.\u001B[39;49m\u001B[43mget\u001B[49m\u001B[43m(\u001B[49m\u001B[43mname\u001B[49m\u001B[43m,\u001B[49m\u001B[43m \u001B[49m\u001B[43m{\u001B[49m\u001B[43m}\u001B[49m\u001B[43m)\u001B[49m\u001B[43m)\u001B[49m  \u001B[38;5;66;03m# type: ignore[call-arg]\u001B[39;00m\n\u001B[1;32m   1053\u001B[0m \u001B[38;5;28;01mexcept\u001B[39;00m \u001B[38;5;167;01mKeyError\u001B[39;00m \u001B[38;5;28;01mas\u001B[39;00m e:\n\u001B[1;32m   1054\u001B[0m     \u001B[38;5;66;03m# This typically happens if a component is not initialized\u001B[39;00m\n\u001B[1;32m   1055\u001B[0m     \u001B[38;5;28;01mraise\u001B[39;00m \u001B[38;5;167;01mValueError\u001B[39;00m(Errors\u001B[38;5;241m.\u001B[39mE109\u001B[38;5;241m.\u001B[39mformat(name\u001B[38;5;241m=\u001B[39mname)) \u001B[38;5;28;01mfrom\u001B[39;00m \u001B[38;5;21;01me\u001B[39;00m\n",
      "File \u001B[0;32m~/anaconda3/envs/fake-news/lib/python3.12/site-packages/spacy/pipeline/trainable_pipe.pyx:52\u001B[0m, in \u001B[0;36mspacy.pipeline.trainable_pipe.TrainablePipe.__call__\u001B[0;34m()\u001B[0m\n",
      "File \u001B[0;32m~/anaconda3/envs/fake-news/lib/python3.12/site-packages/spacy/pipeline/transition_parser.pyx:264\u001B[0m, in \u001B[0;36mspacy.pipeline.transition_parser.Parser.predict\u001B[0;34m()\u001B[0m\n",
      "File \u001B[0;32m~/anaconda3/envs/fake-news/lib/python3.12/site-packages/spacy/pipeline/transition_parser.pyx:285\u001B[0m, in \u001B[0;36mspacy.pipeline.transition_parser.Parser.greedy_parse\u001B[0;34m()\u001B[0m\n",
      "File \u001B[0;32m~/anaconda3/envs/fake-news/lib/python3.12/site-packages/thinc/model.py:334\u001B[0m, in \u001B[0;36mModel.predict\u001B[0;34m(self, X)\u001B[0m\n\u001B[1;32m    330\u001B[0m \u001B[38;5;28;01mdef\u001B[39;00m \u001B[38;5;21mpredict\u001B[39m(\u001B[38;5;28mself\u001B[39m, X: InT) \u001B[38;5;241m-\u001B[39m\u001B[38;5;241m>\u001B[39m OutT:\n\u001B[1;32m    331\u001B[0m \u001B[38;5;250m    \u001B[39m\u001B[38;5;124;03m\"\"\"Call the model's `forward` function with `is_train=False`, and return\u001B[39;00m\n\u001B[1;32m    332\u001B[0m \u001B[38;5;124;03m    only the output, instead of the `(output, callback)` tuple.\u001B[39;00m\n\u001B[1;32m    333\u001B[0m \u001B[38;5;124;03m    \"\"\"\u001B[39;00m\n\u001B[0;32m--> 334\u001B[0m     \u001B[38;5;28;01mreturn\u001B[39;00m \u001B[38;5;28;43mself\u001B[39;49m\u001B[38;5;241;43m.\u001B[39;49m\u001B[43m_func\u001B[49m\u001B[43m(\u001B[49m\u001B[38;5;28;43mself\u001B[39;49m\u001B[43m,\u001B[49m\u001B[43m \u001B[49m\u001B[43mX\u001B[49m\u001B[43m,\u001B[49m\u001B[43m \u001B[49m\u001B[43mis_train\u001B[49m\u001B[38;5;241;43m=\u001B[39;49m\u001B[38;5;28;43;01mFalse\u001B[39;49;00m\u001B[43m)\u001B[49m[\u001B[38;5;241m0\u001B[39m]\n",
      "File \u001B[0;32m~/anaconda3/envs/fake-news/lib/python3.12/site-packages/spacy/ml/tb_framework.py:34\u001B[0m, in \u001B[0;36mforward\u001B[0;34m(model, X, is_train)\u001B[0m\n\u001B[1;32m     33\u001B[0m \u001B[38;5;28;01mdef\u001B[39;00m \u001B[38;5;21mforward\u001B[39m(model, X, is_train):\n\u001B[0;32m---> 34\u001B[0m     step_model \u001B[38;5;241m=\u001B[39m \u001B[43mParserStepModel\u001B[49m\u001B[43m(\u001B[49m\n\u001B[1;32m     35\u001B[0m \u001B[43m        \u001B[49m\u001B[43mX\u001B[49m\u001B[43m,\u001B[49m\n\u001B[1;32m     36\u001B[0m \u001B[43m        \u001B[49m\u001B[43mmodel\u001B[49m\u001B[38;5;241;43m.\u001B[39;49m\u001B[43mlayers\u001B[49m\u001B[43m,\u001B[49m\n\u001B[1;32m     37\u001B[0m \u001B[43m        \u001B[49m\u001B[43munseen_classes\u001B[49m\u001B[38;5;241;43m=\u001B[39;49m\u001B[43mmodel\u001B[49m\u001B[38;5;241;43m.\u001B[39;49m\u001B[43mattrs\u001B[49m\u001B[43m[\u001B[49m\u001B[38;5;124;43m\"\u001B[39;49m\u001B[38;5;124;43munseen_classes\u001B[39;49m\u001B[38;5;124;43m\"\u001B[39;49m\u001B[43m]\u001B[49m\u001B[43m,\u001B[49m\n\u001B[1;32m     38\u001B[0m \u001B[43m        \u001B[49m\u001B[43mtrain\u001B[49m\u001B[38;5;241;43m=\u001B[39;49m\u001B[43mis_train\u001B[49m\u001B[43m,\u001B[49m\n\u001B[1;32m     39\u001B[0m \u001B[43m        \u001B[49m\u001B[43mhas_upper\u001B[49m\u001B[38;5;241;43m=\u001B[39;49m\u001B[43mmodel\u001B[49m\u001B[38;5;241;43m.\u001B[39;49m\u001B[43mattrs\u001B[49m\u001B[43m[\u001B[49m\u001B[38;5;124;43m\"\u001B[39;49m\u001B[38;5;124;43mhas_upper\u001B[39;49m\u001B[38;5;124;43m\"\u001B[39;49m\u001B[43m]\u001B[49m\u001B[43m,\u001B[49m\n\u001B[1;32m     40\u001B[0m \u001B[43m    \u001B[49m\u001B[43m)\u001B[49m\n\u001B[1;32m     42\u001B[0m     \u001B[38;5;28;01mreturn\u001B[39;00m step_model, step_model\u001B[38;5;241m.\u001B[39mfinish_steps\n",
      "File \u001B[0;32m~/anaconda3/envs/fake-news/lib/python3.12/site-packages/spacy/ml/parser_model.pyx:257\u001B[0m, in \u001B[0;36mspacy.ml.parser_model.ParserStepModel.__init__\u001B[0;34m()\u001B[0m\n",
      "File \u001B[0;32m~/anaconda3/envs/fake-news/lib/python3.12/site-packages/spacy/ml/parser_model.pyx:398\u001B[0m, in \u001B[0;36mspacy.ml.parser_model.precompute_hiddens.__init__\u001B[0;34m()\u001B[0m\n",
      "File \u001B[0;32m~/anaconda3/envs/fake-news/lib/python3.12/site-packages/thinc/model.py:310\u001B[0m, in \u001B[0;36mModel.__call__\u001B[0;34m(self, X, is_train)\u001B[0m\n\u001B[1;32m    307\u001B[0m \u001B[38;5;28;01mdef\u001B[39;00m \u001B[38;5;21m__call__\u001B[39m(\u001B[38;5;28mself\u001B[39m, X: InT, is_train: \u001B[38;5;28mbool\u001B[39m) \u001B[38;5;241m-\u001B[39m\u001B[38;5;241m>\u001B[39m Tuple[OutT, Callable]:\n\u001B[1;32m    308\u001B[0m \u001B[38;5;250m    \u001B[39m\u001B[38;5;124;03m\"\"\"Call the model's `forward` function, returning the output and a\u001B[39;00m\n\u001B[1;32m    309\u001B[0m \u001B[38;5;124;03m    callback to compute the gradients via backpropagation.\"\"\"\u001B[39;00m\n\u001B[0;32m--> 310\u001B[0m     \u001B[38;5;28;01mreturn\u001B[39;00m \u001B[38;5;28;43mself\u001B[39;49m\u001B[38;5;241;43m.\u001B[39;49m\u001B[43m_func\u001B[49m\u001B[43m(\u001B[49m\u001B[38;5;28;43mself\u001B[39;49m\u001B[43m,\u001B[49m\u001B[43m \u001B[49m\u001B[43mX\u001B[49m\u001B[43m,\u001B[49m\u001B[43m \u001B[49m\u001B[43mis_train\u001B[49m\u001B[38;5;241;43m=\u001B[39;49m\u001B[43mis_train\u001B[49m\u001B[43m)\u001B[49m\n",
      "File \u001B[0;32m~/anaconda3/envs/fake-news/lib/python3.12/site-packages/spacy/ml/_precomputable_affine.py:27\u001B[0m, in \u001B[0;36mforward\u001B[0;34m(model, X, is_train)\u001B[0m\n\u001B[1;32m     25\u001B[0m \u001B[38;5;66;03m# Preallocate array for layer output, including padding.\u001B[39;00m\n\u001B[1;32m     26\u001B[0m Yf \u001B[38;5;241m=\u001B[39m model\u001B[38;5;241m.\u001B[39mops\u001B[38;5;241m.\u001B[39malloc2f(X\u001B[38;5;241m.\u001B[39mshape[\u001B[38;5;241m0\u001B[39m] \u001B[38;5;241m+\u001B[39m \u001B[38;5;241m1\u001B[39m, nF \u001B[38;5;241m*\u001B[39m nO \u001B[38;5;241m*\u001B[39m nP, zeros\u001B[38;5;241m=\u001B[39m\u001B[38;5;28;01mFalse\u001B[39;00m)\n\u001B[0;32m---> 27\u001B[0m \u001B[43mmodel\u001B[49m\u001B[38;5;241;43m.\u001B[39;49m\u001B[43mops\u001B[49m\u001B[38;5;241;43m.\u001B[39;49m\u001B[43mgemm\u001B[49m\u001B[43m(\u001B[49m\u001B[43mX\u001B[49m\u001B[43m,\u001B[49m\u001B[43m \u001B[49m\u001B[43mW\u001B[49m\u001B[38;5;241;43m.\u001B[39;49m\u001B[43mreshape\u001B[49m\u001B[43m(\u001B[49m\u001B[43m(\u001B[49m\u001B[43mnF\u001B[49m\u001B[43m \u001B[49m\u001B[38;5;241;43m*\u001B[39;49m\u001B[43m \u001B[49m\u001B[43mnO\u001B[49m\u001B[43m \u001B[49m\u001B[38;5;241;43m*\u001B[39;49m\u001B[43m \u001B[49m\u001B[43mnP\u001B[49m\u001B[43m,\u001B[49m\u001B[43m \u001B[49m\u001B[43mnI\u001B[49m\u001B[43m)\u001B[49m\u001B[43m)\u001B[49m\u001B[43m,\u001B[49m\u001B[43m \u001B[49m\u001B[43mtrans2\u001B[49m\u001B[38;5;241;43m=\u001B[39;49m\u001B[38;5;28;43;01mTrue\u001B[39;49;00m\u001B[43m,\u001B[49m\u001B[43m \u001B[49m\u001B[43mout\u001B[49m\u001B[38;5;241;43m=\u001B[39;49m\u001B[43mYf\u001B[49m\u001B[43m[\u001B[49m\u001B[38;5;241;43m1\u001B[39;49m\u001B[43m:\u001B[49m\u001B[43m]\u001B[49m\u001B[43m)\u001B[49m\n\u001B[1;32m     28\u001B[0m Yf \u001B[38;5;241m=\u001B[39m Yf\u001B[38;5;241m.\u001B[39mreshape((Yf\u001B[38;5;241m.\u001B[39mshape[\u001B[38;5;241m0\u001B[39m], nF, nO, nP))\n\u001B[1;32m     30\u001B[0m \u001B[38;5;66;03m# Set padding. Padding has shape (1, nF, nO, nP). Unfortunately, we cannot\u001B[39;00m\n\u001B[1;32m     31\u001B[0m \u001B[38;5;66;03m# change its shape to (nF, nO, nP) without breaking existing models. So\u001B[39;00m\n\u001B[1;32m     32\u001B[0m \u001B[38;5;66;03m# we'll squeeze the first dimension here.\u001B[39;00m\n",
      "\u001B[0;31mKeyboardInterrupt\u001B[0m: "
     ]
    }
   ],
   "execution_count": 75
  },
  {
   "metadata": {},
   "cell_type": "code",
   "source": [
    "from sklearn.manifold import TSNE\n",
    "\n",
    "# Reduce vectors to 2D\n",
    "tsne = TSNE(n_components=2, random_state=42)\n",
    "vectors_2d = tsne.fit_transform(text_vectors)\n"
   ],
   "id": "74acdf5cdac1a832",
   "outputs": [],
   "execution_count": null
  },
  {
   "metadata": {},
   "cell_type": "code",
   "source": [
    "import matplotlib.pyplot as plt\n",
    "\n",
    "# Plot the words in 2D space\n",
    "plt.figure(figsize=(10, 10))\n",
    "scatter = plt.scatter(vectors_2d[:, 0], vectors_2d[:, 1], c=labels, cmap=\"viridis\", alpha=0.7)\n",
    "\n",
    "unique_labels = np.unique(labels)\n",
    "handles = [plt.Line2D([0], [0], marker='o', color='w', markerfacecolor=scatter.cmap(scatter.norm(label)), markersize=10) for label in unique_labels]\n",
    "labels_for_legend = [f\"{label}\" for label in unique_labels]\n",
    "\n",
    "plt.legend(handles, labels_for_legend, title=\"Klasės\")\n",
    "\n",
    "plt.title(\"2D teksto vizualizacija (TSNE)\")\n",
    "plt.xlabel(\"Dimensija 1\")\n",
    "plt.ylabel(\"Dimensija 2\")\n",
    "plt.grid()\n",
    "plt.show()\n",
    "\n"
   ],
   "id": "d276ceebc686f941",
   "outputs": [],
   "execution_count": null
  },
  {
   "metadata": {},
   "cell_type": "code",
   "source": [
    "from sklearn.decomposition import PCA\n",
    "\n",
    "# Reduce vectors to 2D\n",
    "pca = PCA(n_components=2)\n",
    "vectors_2d = pca.fit_transform(text_vectors)\n"
   ],
   "id": "6b5b32ae7929635",
   "outputs": [],
   "execution_count": null
  },
  {
   "metadata": {},
   "cell_type": "code",
   "source": [
    "import matplotlib.pyplot as plt\n",
    "\n",
    "# Plot the words in 2D space\n",
    "plt.figure(figsize=(10, 10))\n",
    "scatter = plt.scatter(vectors_2d[:, 0], vectors_2d[:, 1], c=labels, cmap=\"viridis\", alpha=0.7)\n",
    "\n",
    "unique_labels = np.unique(labels)\n",
    "handles = [plt.Line2D([0], [0], marker='o', color='w', markerfacecolor=scatter.cmap(scatter.norm(label)), markersize=10) for label in unique_labels]\n",
    "labels_for_legend = [f\"{label}\" for label in unique_labels]\n",
    "\n",
    "plt.legend(handles, labels_for_legend, title=\"Klasės\")\n",
    "\n",
    "plt.title(\"2D teksto vizualizacija (TSNE)\")\n",
    "plt.xlabel(\"Dimensija 1\")\n",
    "plt.ylabel(\"Dimensija 2\")\n",
    "plt.grid()\n",
    "plt.show()"
   ],
   "id": "574892cc5731c70b",
   "outputs": [],
   "execution_count": null
  },
  {
   "metadata": {},
   "cell_type": "code",
   "outputs": [],
   "execution_count": null,
   "source": "",
   "id": "1c8ee838165a994c"
  }
 ],
 "metadata": {
  "kernelspec": {
   "display_name": "Python 3",
   "language": "python",
   "name": "python3"
  },
  "language_info": {
   "codemirror_mode": {
    "name": "ipython",
    "version": 2
   },
   "file_extension": ".py",
   "mimetype": "text/x-python",
   "name": "python",
   "nbconvert_exporter": "python",
   "pygments_lexer": "ipython2",
   "version": "2.7.6"
  }
 },
 "nbformat": 4,
 "nbformat_minor": 5
}

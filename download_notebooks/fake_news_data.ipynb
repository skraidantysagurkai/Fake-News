{
 "cells": [
  {
   "cell_type": "code",
   "execution_count": 2,
   "id": "d0b5d8602830ecf",
   "metadata": {
    "ExecuteTime": {
     "end_time": "2024-11-05T10:58:31.241127Z",
     "start_time": "2024-11-05T10:58:30.822518Z"
    }
   },
   "outputs": [
    {
     "name": "stdout",
     "output_type": "stream",
     "text": [
      "Warning: Looks like you're using an outdated `kagglehub` version, please consider updating (latest version: 0.3.4)\n",
      "Path to dataset files: C:\\Users\\D.Ivanovas\\.cache\\kagglehub\\datasets\\clmentbisaillon\\fake-and-real-news-dataset\\versions\\1\n"
     ]
    }
   ],
   "source": [
    "import kagglehub\n",
    "# Download latest version\n",
    "path = kagglehub.dataset_download(\"clmentbisaillon/fake-and-real-news-dataset\")\n",
    "\n",
    "print(\"Path to dataset files:\", path)"
   ]
  },
  {
   "cell_type": "markdown",
   "id": "dbf0126f",
   "metadata": {},
   "source": [
    "### Polars"
   ]
  },
  {
   "cell_type": "code",
   "execution_count": 3,
   "id": "8399068b",
   "metadata": {},
   "outputs": [],
   "source": [
    "import polars as pl\n",
    "import os\n",
    "\n",
    "# Read the data\n",
    "fake_df = pl.read_csv(os.path.join(path, 'fake.csv'))\n",
    "true_df = pl.read_csv(os.path.join(path, 'true.csv'))\n",
    "\n",
    "# Add labels\n",
    "fake_df = fake_df.with_columns(pl.lit(0).alias(\"label\"))\n",
    "true_df = true_df.with_columns(pl.lit(1).alias(\"label\"))\n",
    "\n",
    "# Concatenate and shuffle the DataFrame\n",
    "joined_df = pl.concat([fake_df, true_df]).sample(fraction=1).with_row_index().select(pl.exclude(\"index\"))\n"
   ]
  },
  {
   "cell_type": "code",
   "execution_count": 4,
   "id": "a6b9408a",
   "metadata": {},
   "outputs": [
    {
     "data": {
      "text/plain": [
       "44898"
      ]
     },
     "execution_count": 4,
     "metadata": {},
     "output_type": "execute_result"
    }
   ],
   "source": [
    "len(joined_df)"
   ]
  },
  {
   "cell_type": "markdown",
   "id": "67485001",
   "metadata": {},
   "source": [
    "### Pandas"
   ]
  },
  {
   "cell_type": "code",
   "execution_count": null,
   "id": "ad6046c7",
   "metadata": {},
   "outputs": [],
   "source": [
    "import pandas as pd\n",
    "import os \n",
    "\n",
    "fake_df = pd.read_csv(os.path.join(path, 'fake.csv'))\n",
    "true_df = pd.read_csv(os.path.join(path, 'true.csv'))\n",
    "\n",
    "fake_df[\"label\"]=0\n",
    "true_df[\"label\"]=1\n",
    "\n",
    "joined_df = pd.concat([fake_df, true_df], axis=0, ignore_index=True) # sujungiam sulablintus datasetus\n",
    "joined_df = joined_df.sample(frac=1).reset_index(drop=True) # sushufflinam dataseta\n"
   ]
  },
  {
   "cell_type": "markdown",
   "id": "5284cce3",
   "metadata": {},
   "source": [
    "# Features"
   ]
  },
  {
   "cell_type": "code",
   "execution_count": 3,
   "id": "a8e26053",
   "metadata": {},
   "outputs": [],
   "source": [
    "from spellchecker import SpellChecker\n",
    "import spacy\n",
    "import swifter\n",
    "import re\n",
    "\n",
    "spell = SpellChecker()\n",
    "nlp = spacy.load('en_core_web_sm')\n",
    "\n",
    "def extract_features(text):\n",
    "    doc = nlp(text)\n",
    "    word_count = len(text.split())\n",
    "    stopword_count = sum(1 for token in doc if token.is_stop)\n",
    "    punct_count = sum(1 for token in doc if token.is_punct)\n",
    "    ent_count = len(doc.ents)\n",
    "    # misspelled = spell.unknown(text)  # Using `spell.unknown` to get misspelled words\n",
    "    # wierd_symbols_count = len(misspelled)\n",
    "    \n",
    "    return word_count, stopword_count, punct_count, ent_count\n"
   ]
  },
  {
   "cell_type": "markdown",
   "id": "bb47cefe",
   "metadata": {},
   "source": [
    "### Polars"
   ]
  },
  {
   "cell_type": "code",
   "execution_count": null,
   "id": "8de16e4b",
   "metadata": {},
   "outputs": [
    {
     "data": {
      "text/html": [
       "<div><style>\n",
       ".dataframe > thead > tr,\n",
       ".dataframe > tbody > tr {\n",
       "  text-align: right;\n",
       "  white-space: pre-wrap;\n",
       "}\n",
       "</style>\n",
       "<small>shape: (5_612, 5)</small><table border=\"1\" class=\"dataframe\"><thead><tr><th>title</th><th>text</th><th>subject</th><th>date</th><th>label</th></tr><tr><td>str</td><td>str</td><td>str</td><td>str</td><td>i32</td></tr></thead><tbody><tr><td>&quot; Donald Trump Sends Out Embarr…</td><td>&quot;Donald Trump just couldn t wis…</td><td>&quot;News&quot;</td><td>&quot;December 31, 2017&quot;</td><td>0</td></tr><tr><td>&quot; Drunk Bragging Trump Staffer …</td><td>&quot;House Intelligence Committee C…</td><td>&quot;News&quot;</td><td>&quot;December 31, 2017&quot;</td><td>0</td></tr><tr><td>&quot; Sheriff David Clarke Becomes …</td><td>&quot;On Friday, it was revealed tha…</td><td>&quot;News&quot;</td><td>&quot;December 30, 2017&quot;</td><td>0</td></tr><tr><td>&quot; Trump Is So Obsessed He Even …</td><td>&quot;On Christmas day, Donald Trump…</td><td>&quot;News&quot;</td><td>&quot;December 29, 2017&quot;</td><td>0</td></tr><tr><td>&quot; Pope Francis Just Called Out …</td><td>&quot;Pope Francis used his annual C…</td><td>&quot;News&quot;</td><td>&quot;December 25, 2017&quot;</td><td>0</td></tr><tr><td>&hellip;</td><td>&hellip;</td><td>&hellip;</td><td>&hellip;</td><td>&hellip;</td></tr><tr><td>&quot; ‘Responsible’ Gun Owner Tries…</td><td>&quot;Okay, we all probably get it. …</td><td>&quot;News&quot;</td><td>&quot;July 4, 2016&quot;</td><td>0</td></tr><tr><td>&quot; Watch A Trump Supporter GO BO…</td><td>&quot;Anyone trying to defend Donald…</td><td>&quot;News&quot;</td><td>&quot;July 4, 2016&quot;</td><td>0</td></tr><tr><td>&quot; Donald Trump Hilariously Gets…</td><td>&quot;Donald Trump could have just s…</td><td>&quot;News&quot;</td><td>&quot;July 4, 2016&quot;</td><td>0</td></tr><tr><td>&quot; WOW: Duck Dynasty Star Phil R…</td><td>&quot;No one can accuse Duck Dynasty…</td><td>&quot;News&quot;</td><td>&quot;July 4, 2016&quot;</td><td>0</td></tr><tr><td>&quot; Happy 4th Of July! American I…</td><td>&quot;As people head out to celebrat…</td><td>&quot;News&quot;</td><td>&quot;July 4, 2016&quot;</td><td>0</td></tr></tbody></table></div>"
      ],
      "text/plain": [
       "shape: (5_612, 5)\n",
       "┌──────────────────────────────┬─────────────────────────────┬─────────┬───────────────────┬───────┐\n",
       "│ title                        ┆ text                        ┆ subject ┆ date              ┆ label │\n",
       "│ ---                          ┆ ---                         ┆ ---     ┆ ---               ┆ ---   │\n",
       "│ str                          ┆ str                         ┆ str     ┆ str               ┆ i32   │\n",
       "╞══════════════════════════════╪═════════════════════════════╪═════════╪═══════════════════╪═══════╡\n",
       "│ Donald Trump Sends Out       ┆ Donald Trump just couldn t  ┆ News    ┆ December 31, 2017 ┆ 0     │\n",
       "│ Embarr…                      ┆ wis…                        ┆         ┆                   ┆       │\n",
       "│ Drunk Bragging Trump Staffer ┆ House Intelligence          ┆ News    ┆ December 31, 2017 ┆ 0     │\n",
       "│ …                            ┆ Committee C…                ┆         ┆                   ┆       │\n",
       "│ Sheriff David Clarke Becomes ┆ On Friday, it was revealed  ┆ News    ┆ December 30, 2017 ┆ 0     │\n",
       "│ …                            ┆ tha…                        ┆         ┆                   ┆       │\n",
       "│ Trump Is So Obsessed He Even ┆ On Christmas day, Donald    ┆ News    ┆ December 29, 2017 ┆ 0     │\n",
       "│ …                            ┆ Trump…                      ┆         ┆                   ┆       │\n",
       "│ Pope Francis Just Called Out ┆ Pope Francis used his       ┆ News    ┆ December 25, 2017 ┆ 0     │\n",
       "│ …                            ┆ annual C…                   ┆         ┆                   ┆       │\n",
       "│ …                            ┆ …                           ┆ …       ┆ …                 ┆ …     │\n",
       "│ ‘Responsible’ Gun Owner      ┆ Okay, we all probably get   ┆ News    ┆ July 4, 2016      ┆ 0     │\n",
       "│ Tries…                       ┆ it. …                       ┆         ┆                   ┆       │\n",
       "│ Watch A Trump Supporter GO   ┆ Anyone trying to defend     ┆ News    ┆ July 4, 2016      ┆ 0     │\n",
       "│ BO…                          ┆ Donald…                     ┆         ┆                   ┆       │\n",
       "│ Donald Trump Hilariously     ┆ Donald Trump could have     ┆ News    ┆ July 4, 2016      ┆ 0     │\n",
       "│ Gets…                        ┆ just s…                     ┆         ┆                   ┆       │\n",
       "│ WOW: Duck Dynasty Star Phil  ┆ No one can accuse Duck      ┆ News    ┆ July 4, 2016      ┆ 0     │\n",
       "│ R…                           ┆ Dynasty…                    ┆         ┆                   ┆       │\n",
       "│ Happy 4th Of July! American  ┆ As people head out to       ┆ News    ┆ July 4, 2016      ┆ 0     │\n",
       "│ I…                           ┆ celebrat…                   ┆         ┆                   ┆       │\n",
       "└──────────────────────────────┴─────────────────────────────┴─────────┴───────────────────┴───────┘"
      ]
     },
     "execution_count": 7,
     "metadata": {},
     "output_type": "execute_result"
    }
   ],
   "source": []
  },
  {
   "cell_type": "code",
   "execution_count": null,
   "id": "db4f3b91",
   "metadata": {},
   "outputs": [
    {
     "name": "stdout",
     "output_type": "stream",
     "text": [
      "Selected chunk size: 5612\n",
      "Chunk i added\n",
      "Chunk i added\n",
      "Chunk i added\n",
      "Chunk i added\n",
      "Chunk i added\n",
      "Chunk i added\n",
      "Chunk i added\n",
      "Chunk i added\n",
      "Starting processing\n"
     ]
    }
   ],
   "source": [
    "import multiprocessing as mp\n",
    "\n",
    "def process_chunks(chunk):\n",
    "    chunk = chunk.with_columns(\n",
    "        pl.struct(\"text\").map_elements(lambda s: extract_features(s['text']), return_dtype=list).alias(\"Features\")\n",
    "    )\n",
    "    \n",
    "\n",
    "num_partitions = 8\n",
    "chunk_size = len(joined_df) // num_partitions\n",
    "print(f\"Selected chunk size: {chunk_size}\")\n",
    "chunks = []\n",
    "for i in range(num_partitions):\n",
    "    chunks.append(joined_df.slice(i*chunk_size, (i+1)*chunk_size))\n",
    "    print(\"Chunk i added\")\n",
    "    \n",
    "print(\"Starting processing\")\n",
    "with mp.Pool(num_partitions) as pool:\n",
    "    result_chunks = pool.map(process_chunks, chunks)\n",
    "    \n",
    "polars_df = pl.concat(result_chunks)"
   ]
  },
  {
   "cell_type": "code",
   "execution_count": 15,
   "id": "fb8e3e42",
   "metadata": {},
   "outputs": [],
   "source": [
    "joined_df = joined_df.with_columns(\n",
    "    pl.struct(\"text\").map_elements(lambda s: extract_features(s['text']), return_dtype=list).alias(\"Features\")\n",
    ")"
   ]
  },
  {
   "cell_type": "code",
   "execution_count": null,
   "id": "b84a652c",
   "metadata": {},
   "outputs": [
    {
     "data": {
      "text/plain": [
       "polars.dataframe.frame.DataFrame"
      ]
     },
     "execution_count": 9,
     "metadata": {},
     "output_type": "execute_result"
    }
   ],
   "source": []
  },
  {
   "cell_type": "markdown",
   "id": "8715190e",
   "metadata": {},
   "source": [
    "### Pandas\n"
   ]
  },
  {
   "cell_type": "code",
   "execution_count": null,
   "id": "c20fdaf0",
   "metadata": {},
   "outputs": [
    {
     "data": {
      "application/vnd.jupyter.widget-view+json": {
       "model_id": "2bd6f04fcb954dbebec4b988b3e7a4ab",
       "version_major": 2,
       "version_minor": 0
      },
      "text/plain": [
       "Pandas Apply:   0%|          | 0/44898 [00:00<?, ?it/s]"
      ]
     },
     "metadata": {},
     "output_type": "display_data"
    }
   ],
   "source": [
    "joined_df[['word_count', 'stopword_count', 'punct_count', 'wierd_symbols_count', 'ent_count']] = \\\n",
    "    joined_df['text'].swifter.apply(lambda text: extract_features(text)).apply(pd.Series)\n",
    "\n",
    "joined_df['ws_ratio'] = joined_df['word_count'] / joined_df['stopword_count']"
   ]
  },
  {
   "cell_type": "markdown",
   "id": "789af0b7",
   "metadata": {},
   "source": [
    "# Text processing"
   ]
  },
  {
   "cell_type": "code",
   "execution_count": null,
   "id": "10de0add",
   "metadata": {},
   "outputs": [
    {
     "data": {
      "application/vnd.jupyter.widget-view+json": {
       "model_id": "b74b8c43064c48a896bc9e0eecab4dec",
       "version_major": 2,
       "version_minor": 0
      },
      "text/plain": [
       "Pandas Apply:   0%|          | 0/44898 [00:00<?, ?it/s]"
      ]
     },
     "metadata": {},
     "output_type": "display_data"
    }
   ],
   "source": [
    "# '\\xad' soft hyphen | \\u200e  left to right symbol | \\u200a Unicode Character “ ” | \\u200b Zero-width space\n",
    "# \\u200f Right-to-Left Mark\n",
    "unwanted_symbols = ['–', '—', '‘', '“', '”', '•', '…', '☑', '➡', 'ツ',  '¯','°', '´', '¿', '\\xad', '\\u200e', '\\u200a', '\\u200b', '\\u200f']\n",
    "\n",
    "def process_text(text):\n",
    "    # Turkey’s -> Turkey's\n",
    "    text = re.sub(r'(?<=\\w)’(?=s)', \"'\", text)\n",
    "    # replace all whitespaces, including unicode spaces and tabs with regular space\n",
    "    pattern = '[' + re.escape(''.join(unwanted_symbols)) + ']'  # Escapes special regex characters\n",
    "    text = re.sub(pattern, '', text)    \n",
    "    text = re.sub(r'\\s', ' ', text)\n",
    "    doc = nlp(text)\n",
    "    sent = []\n",
    "    # check for stop words and punctuation\n",
    "    for token in doc:\n",
    "        if not token.is_punct and not token.is_stop:\n",
    "            sent.append(token.text)\n",
    "    \n",
    "    return ' '.join(sent)\n",
    "\n",
    "# use swifter for faster .apply()\n",
    "joined_df['processed_text'] = joined_df['text'].apply(process_text)\n",
    "\n",
    "joined_df.to_csv(os.path.join(path, 'processed_text.csv'))"
   ]
  },
  {
   "cell_type": "code",
   "execution_count": 14,
   "id": "f0bad8ac",
   "metadata": {},
   "outputs": [],
   "source": [
    "import sys\n",
    "sys.path.append(r'C:\\Users\\D.Ivanovas\\Desktop\\uni\\Fake-News')"
   ]
  },
  {
   "cell_type": "code",
   "execution_count": null,
   "id": "b483e904fa56e22b",
   "metadata": {
    "ExecuteTime": {
     "end_time": "2024-11-05T10:58:57.250718Z",
     "start_time": "2024-11-05T10:58:56.517903Z"
    }
   },
   "outputs": [
    {
     "data": {
      "text/plain": [
       "'C:\\\\Users\\\\D.Ivanovas\\\\Desktop\\\\uni\\\\Fake-News\\\\data'"
      ]
     },
     "execution_count": 15,
     "metadata": {},
     "output_type": "execute_result"
    }
   ],
   "source": [
    "from paths import DATA_DIR\n",
    "import shutil\n",
    "\n",
    "shutil.move(str(os.path.join(path, 'processed_text.csv')), str(DATA_DIR))"
   ]
  },
  {
   "cell_type": "code",
   "execution_count": null,
   "id": "7cb20c03cd2eb3c",
   "metadata": {},
   "outputs": [],
   "source": []
  }
 ],
 "metadata": {
  "kernelspec": {
   "display_name": "fake-news",
   "language": "python",
   "name": "python3"
  },
  "language_info": {
   "codemirror_mode": {
    "name": "ipython",
    "version": 3
   },
   "file_extension": ".py",
   "mimetype": "text/x-python",
   "name": "python",
   "nbconvert_exporter": "python",
   "pygments_lexer": "ipython3",
   "version": "3.12.7"
  }
 },
 "nbformat": 4,
 "nbformat_minor": 5
}

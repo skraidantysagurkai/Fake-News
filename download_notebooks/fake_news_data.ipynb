{
 "cells": [
  {
   "cell_type": "code",
   "execution_count": 1,
   "id": "d0b5d8602830ecf",
   "metadata": {
    "ExecuteTime": {
     "end_time": "2024-11-05T10:58:31.241127Z",
     "start_time": "2024-11-05T10:58:30.822518Z"
    }
   },
   "outputs": [
    {
     "name": "stdout",
     "output_type": "stream",
     "text": [
      "Downloading from https://www.kaggle.com/api/v1/datasets/download/clmentbisaillon/fake-and-real-news-dataset?dataset_version_number=1...\n"
     ]
    },
    {
     "name": "stderr",
     "output_type": "stream",
     "text": [
      "100%|██████████| 41.0M/41.0M [00:03<00:00, 11.6MB/s]"
     ]
    },
    {
     "name": "stdout",
     "output_type": "stream",
     "text": [
      "Extracting files...\n"
     ]
    },
    {
     "name": "stderr",
     "output_type": "stream",
     "text": [
      "\n"
     ]
    },
    {
     "name": "stdout",
     "output_type": "stream",
     "text": [
      "Path to dataset files: C:\\Users\\D.Ivanovas\\.cache\\kagglehub\\datasets\\clmentbisaillon\\fake-and-real-news-dataset\\versions\\1\n"
     ]
    }
   ],
   "source": [
    "import kagglehub\n",
    "# Download latest version\n",
    "path = kagglehub.dataset_download(\"clmentbisaillon/fake-and-real-news-dataset\")\n",
    "\n",
    "print(\"Path to dataset files:\", path)"
   ]
  },
  {
   "cell_type": "code",
   "execution_count": 14,
   "id": "ad6046c7",
   "metadata": {},
   "outputs": [],
   "source": [
    "import pandas as pd\n",
    "import os \n",
    "fake_df = pd.read_csv(os.path.join(path, 'fake.csv'))\n",
    "true_df = pd.read_csv(os.path.join(path, 'true.csv'))\n",
    "\n",
    "fake_df[\"label\"]=0\n",
    "true_df[\"label\"]=1\n",
    "\n"
   ]
  },
  {
   "cell_type": "code",
   "execution_count": null,
   "id": "194d40dc",
   "metadata": {},
   "outputs": [
    {
     "data": {
      "text/html": [
       "<div>\n",
       "<style scoped>\n",
       "    .dataframe tbody tr th:only-of-type {\n",
       "        vertical-align: middle;\n",
       "    }\n",
       "\n",
       "    .dataframe tbody tr th {\n",
       "        vertical-align: top;\n",
       "    }\n",
       "\n",
       "    .dataframe thead th {\n",
       "        text-align: right;\n",
       "    }\n",
       "</style>\n",
       "<table border=\"1\" class=\"dataframe\">\n",
       "  <thead>\n",
       "    <tr style=\"text-align: right;\">\n",
       "      <th></th>\n",
       "      <th>title</th>\n",
       "      <th>text</th>\n",
       "      <th>subject</th>\n",
       "      <th>date</th>\n",
       "      <th>label</th>\n",
       "    </tr>\n",
       "  </thead>\n",
       "  <tbody>\n",
       "    <tr>\n",
       "      <th>0</th>\n",
       "      <td>Here’s How The Bundy Terrorists Left The Malh...</td>\n",
       "      <td>On March 23, KOIN in Burns, Oregon, got a  beh...</td>\n",
       "      <td>News</td>\n",
       "      <td>March 24, 2016</td>\n",
       "      <td>0</td>\n",
       "    </tr>\n",
       "    <tr>\n",
       "      <th>1</th>\n",
       "      <td>Obama To U.S.Military On Putin: “he did not ta...</td>\n",
       "      <td>Sarah Palin can hear Putin s knees knocking fr...</td>\n",
       "      <td>politics</td>\n",
       "      <td>Sep 13, 2015</td>\n",
       "      <td>0</td>\n",
       "    </tr>\n",
       "    <tr>\n",
       "      <th>2</th>\n",
       "      <td>HOUSE TAKES Measures To Impeach IRS Chief Afte...</td>\n",
       "      <td>Speaker Paul Ryan said Wednesday the House wil...</td>\n",
       "      <td>Government News</td>\n",
       "      <td>Sep 8, 2016</td>\n",
       "      <td>0</td>\n",
       "    </tr>\n",
       "    <tr>\n",
       "      <th>3</th>\n",
       "      <td>WATCH: LAST WEEK Giants’ Odell Beckham Jr., “P...</td>\n",
       "      <td>Last week, after the New York Giants player Od...</td>\n",
       "      <td>left-news</td>\n",
       "      <td>Oct 8, 2017</td>\n",
       "      <td>0</td>\n",
       "    </tr>\n",
       "    <tr>\n",
       "      <th>4</th>\n",
       "      <td>Trump Makes New Racist Attack On Judge Exposi...</td>\n",
       "      <td>Donald Trump is very upset at the judge overse...</td>\n",
       "      <td>News</td>\n",
       "      <td>June 3, 2016</td>\n",
       "      <td>0</td>\n",
       "    </tr>\n",
       "    <tr>\n",
       "      <th>...</th>\n",
       "      <td>...</td>\n",
       "      <td>...</td>\n",
       "      <td>...</td>\n",
       "      <td>...</td>\n",
       "      <td>...</td>\n",
       "    </tr>\n",
       "    <tr>\n",
       "      <th>44893</th>\n",
       "      <td>MURDERERS AND RAPISTS FOR HILLARY: VA Governor...</td>\n",
       "      <td>The good news for Hillary is that she should b...</td>\n",
       "      <td>left-news</td>\n",
       "      <td>Apr 23, 2016</td>\n",
       "      <td>0</td>\n",
       "    </tr>\n",
       "    <tr>\n",
       "      <th>44894</th>\n",
       "      <td>Hoyer, asked on German finmin post, says 'extr...</td>\n",
       "      <td>ATHENS (Reuters) - European Investment Bank (E...</td>\n",
       "      <td>worldnews</td>\n",
       "      <td>September 29, 2017</td>\n",
       "      <td>1</td>\n",
       "    </tr>\n",
       "    <tr>\n",
       "      <th>44895</th>\n",
       "      <td>Liberal, Man-Hating Movement DESTROYS Career O...</td>\n",
       "      <td>Lauren McGaughy of The Dallas Morning News di...</td>\n",
       "      <td>left-news</td>\n",
       "      <td>Dec 16, 2017</td>\n",
       "      <td>0</td>\n",
       "    </tr>\n",
       "    <tr>\n",
       "      <th>44896</th>\n",
       "      <td>EU to review Brexit approach if no deal by Dec...</td>\n",
       "      <td>BRUSSELS (Reuters) - The European Union will h...</td>\n",
       "      <td>worldnews</td>\n",
       "      <td>October 10, 2017</td>\n",
       "      <td>1</td>\n",
       "    </tr>\n",
       "    <tr>\n",
       "      <th>44897</th>\n",
       "      <td>EU aims to reopen embassy in Libya</td>\n",
       "      <td>BRUSSELS (Reuters) - The European Union is see...</td>\n",
       "      <td>worldnews</td>\n",
       "      <td>October 10, 2017</td>\n",
       "      <td>1</td>\n",
       "    </tr>\n",
       "  </tbody>\n",
       "</table>\n",
       "<p>44898 rows × 5 columns</p>\n",
       "</div>"
      ],
      "text/plain": [
       "                                                   title  \\\n",
       "0       Here’s How The Bundy Terrorists Left The Malh...   \n",
       "1      Obama To U.S.Military On Putin: “he did not ta...   \n",
       "2      HOUSE TAKES Measures To Impeach IRS Chief Afte...   \n",
       "3      WATCH: LAST WEEK Giants’ Odell Beckham Jr., “P...   \n",
       "4       Trump Makes New Racist Attack On Judge Exposi...   \n",
       "...                                                  ...   \n",
       "44893  MURDERERS AND RAPISTS FOR HILLARY: VA Governor...   \n",
       "44894  Hoyer, asked on German finmin post, says 'extr...   \n",
       "44895  Liberal, Man-Hating Movement DESTROYS Career O...   \n",
       "44896  EU to review Brexit approach if no deal by Dec...   \n",
       "44897                 EU aims to reopen embassy in Libya   \n",
       "\n",
       "                                                    text          subject  \\\n",
       "0      On March 23, KOIN in Burns, Oregon, got a  beh...             News   \n",
       "1      Sarah Palin can hear Putin s knees knocking fr...         politics   \n",
       "2      Speaker Paul Ryan said Wednesday the House wil...  Government News   \n",
       "3      Last week, after the New York Giants player Od...        left-news   \n",
       "4      Donald Trump is very upset at the judge overse...             News   \n",
       "...                                                  ...              ...   \n",
       "44893  The good news for Hillary is that she should b...        left-news   \n",
       "44894  ATHENS (Reuters) - European Investment Bank (E...        worldnews   \n",
       "44895   Lauren McGaughy of The Dallas Morning News di...        left-news   \n",
       "44896  BRUSSELS (Reuters) - The European Union will h...        worldnews   \n",
       "44897  BRUSSELS (Reuters) - The European Union is see...        worldnews   \n",
       "\n",
       "                      date  label  \n",
       "0           March 24, 2016      0  \n",
       "1             Sep 13, 2015      0  \n",
       "2              Sep 8, 2016      0  \n",
       "3              Oct 8, 2017      0  \n",
       "4             June 3, 2016      0  \n",
       "...                    ...    ...  \n",
       "44893         Apr 23, 2016      0  \n",
       "44894  September 29, 2017       1  \n",
       "44895         Dec 16, 2017      0  \n",
       "44896    October 10, 2017       1  \n",
       "44897    October 10, 2017       1  \n",
       "\n",
       "[44898 rows x 5 columns]"
      ]
     },
     "execution_count": 15,
     "metadata": {},
     "output_type": "execute_result"
    }
   ],
   "source": [
    "joined_df = pd.concat([fake_df, true_df], axis=0, ignore_index=True) # sujungiam sulablintus datasetus\n",
    "joined_df = joined_df.sample(frac=1).reset_index(drop=True) # sushufflinam dataseta\n",
    "joined_df"
   ]
  },
  {
   "cell_type": "code",
   "execution_count": 3,
   "id": "b483e904fa56e22b",
   "metadata": {
    "ExecuteTime": {
     "end_time": "2024-11-05T10:58:57.250718Z",
     "start_time": "2024-11-05T10:58:56.517903Z"
    }
   },
   "outputs": [
    {
     "data": {
      "text/plain": [
       "'/mnt/c/Users/atrol/PycharmProjects/Fake-News/data/1'"
      ]
     },
     "execution_count": 3,
     "metadata": {},
     "output_type": "execute_result"
    }
   ],
   "source": [
    "from paths import DATA_DIR\n",
    "import shutil\n",
    "\n",
    "shutil.move(str(path), str(DATA_DIR))"
   ]
  },
  {
   "cell_type": "code",
   "execution_count": null,
   "id": "7cb20c03cd2eb3c",
   "metadata": {},
   "outputs": [],
   "source": []
  }
 ],
 "metadata": {
  "kernelspec": {
   "display_name": "fake-news",
   "language": "python",
   "name": "python3"
  },
  "language_info": {
   "codemirror_mode": {
    "name": "ipython",
    "version": 3
   },
   "file_extension": ".py",
   "mimetype": "text/x-python",
   "name": "python",
   "nbconvert_exporter": "python",
   "pygments_lexer": "ipython3",
   "version": "3.12.7"
  }
 },
 "nbformat": 4,
 "nbformat_minor": 5
}

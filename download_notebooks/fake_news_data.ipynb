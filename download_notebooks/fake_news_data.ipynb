{
 "cells": [
  {
   "metadata": {},
   "cell_type": "code",
   "outputs": [
    {
     "name": "stdout",
     "output_type": "stream",
     "text": [
      "/bin/bash: warning: setlocale: LC_ALL: cannot change locale (en_US.UTF-8)\r\n",
      "Collecting kagglehub\r\n",
      "  Downloading kagglehub-0.3.3-py3-none-any.whl.metadata (22 kB)\r\n",
      "Requirement already satisfied: packaging in /home/ezka/anaconda3/envs/fake-news/lib/python3.12/site-packages (from kagglehub) (24.1)\r\n",
      "Requirement already satisfied: requests in /home/ezka/anaconda3/envs/fake-news/lib/python3.12/site-packages (from kagglehub) (2.32.3)\r\n",
      "Requirement already satisfied: tqdm in /home/ezka/anaconda3/envs/fake-news/lib/python3.12/site-packages (from kagglehub) (4.66.6)\r\n",
      "Requirement already satisfied: charset-normalizer<4,>=2 in /home/ezka/anaconda3/envs/fake-news/lib/python3.12/site-packages (from requests->kagglehub) (3.4.0)\r\n",
      "Requirement already satisfied: idna<4,>=2.5 in /home/ezka/anaconda3/envs/fake-news/lib/python3.12/site-packages (from requests->kagglehub) (3.10)\r\n",
      "Requirement already satisfied: urllib3<3,>=1.21.1 in /home/ezka/anaconda3/envs/fake-news/lib/python3.12/site-packages (from requests->kagglehub) (2.2.3)\r\n",
      "Requirement already satisfied: certifi>=2017.4.17 in /home/ezka/anaconda3/envs/fake-news/lib/python3.12/site-packages (from requests->kagglehub) (2024.8.30)\r\n",
      "Downloading kagglehub-0.3.3-py3-none-any.whl (42 kB)\r\n",
      "Installing collected packages: kagglehub\r\n",
      "Successfully installed kagglehub-0.3.3\r\n"
     ]
    }
   ],
   "execution_count": 1,
   "source": "!pip install kagglehub",
   "id": "initial_id"
  },
  {
   "metadata": {
    "ExecuteTime": {
     "end_time": "2024-11-05T10:58:31.241127Z",
     "start_time": "2024-11-05T10:58:30.822518Z"
    }
   },
   "cell_type": "code",
   "source": [
    "import kagglehub\n",
    "# Download latest version\n",
    "path = kagglehub.dataset_download(\"clmentbisaillon/fake-and-real-news-dataset\")\n",
    "\n",
    "print(\"Path to dataset files:\", path)"
   ],
   "id": "d0b5d8602830ecf",
   "outputs": [
    {
     "name": "stdout",
     "output_type": "stream",
     "text": [
      "Path to dataset files: /home/ezka/.cache/kagglehub/datasets/clmentbisaillon/fake-and-real-news-dataset/versions/1\n"
     ]
    }
   ],
   "execution_count": 2
  },
  {
   "metadata": {
    "ExecuteTime": {
     "end_time": "2024-11-05T10:58:57.250718Z",
     "start_time": "2024-11-05T10:58:56.517903Z"
    }
   },
   "cell_type": "code",
   "source": [
    "from paths import DATA_DIR\n",
    "import shutil\n",
    "\n",
    "shutil.move(str(path), str(DATA_DIR))"
   ],
   "id": "b483e904fa56e22b",
   "outputs": [
    {
     "data": {
      "text/plain": [
       "'/mnt/c/Users/atrol/PycharmProjects/Fake-News/data/1'"
      ]
     },
     "execution_count": 3,
     "metadata": {},
     "output_type": "execute_result"
    }
   ],
   "execution_count": 3
  },
  {
   "metadata": {},
   "cell_type": "code",
   "outputs": [],
   "execution_count": null,
   "source": "",
   "id": "7cb20c03cd2eb3c"
  }
 ],
 "metadata": {
  "kernelspec": {
   "display_name": "Python 3",
   "language": "python",
   "name": "python3"
  },
  "language_info": {
   "codemirror_mode": {
    "name": "ipython",
    "version": 2
   },
   "file_extension": ".py",
   "mimetype": "text/x-python",
   "name": "python",
   "nbconvert_exporter": "python",
   "pygments_lexer": "ipython2",
   "version": "2.7.6"
  }
 },
 "nbformat": 4,
 "nbformat_minor": 5
}

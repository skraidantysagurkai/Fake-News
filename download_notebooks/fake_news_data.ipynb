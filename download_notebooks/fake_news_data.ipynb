{
 "cells": [
  {
   "cell_type": "code",
   "execution_count": 23,
   "id": "d0b5d8602830ecf",
   "metadata": {
    "ExecuteTime": {
     "end_time": "2024-11-05T10:58:31.241127Z",
     "start_time": "2024-11-05T10:58:30.822518Z"
    }
   },
   "outputs": [
    {
     "name": "stdout",
     "output_type": "stream",
     "text": [
      "Warning: Looks like you're using an outdated `kagglehub` version, please consider updating (latest version: 0.3.4)\n",
      "Path to dataset files: C:\\Users\\D.Ivanovas\\.cache\\kagglehub\\datasets\\clmentbisaillon\\fake-and-real-news-dataset\\versions\\1\n"
     ]
    }
   ],
   "source": [
    "import kagglehub\n",
    "# Download latest version\n",
    "path = kagglehub.dataset_download(\"clmentbisaillon/fake-and-real-news-dataset\")\n",
    "\n",
    "print(\"Path to dataset files:\", path)"
   ]
  },
  {
   "cell_type": "code",
   "execution_count": 24,
   "id": "ad6046c7",
   "metadata": {},
   "outputs": [],
   "source": [
    "import pandas as pd\n",
    "import os \n",
    "\n",
    "fake_df = pd.read_csv(os.path.join(path, 'fake.csv'))\n",
    "true_df = pd.read_csv(os.path.join(path, 'true.csv'))\n",
    "\n",
    "fake_df[\"label\"]=0\n",
    "true_df[\"label\"]=1\n",
    "\n",
    "joined_df = pd.concat([fake_df, true_df], axis=0, ignore_index=True) # sujungiam sulablintus datasetus\n",
    "joined_df = joined_df.sample(frac=1).reset_index(drop=True) # sushufflinam dataseta\n"
   ]
  },
  {
   "cell_type": "markdown",
   "id": "5284cce3",
   "metadata": {},
   "source": [
    "# Features"
   ]
  },
  {
   "cell_type": "code",
   "execution_count": 26,
   "id": "c20fdaf0",
   "metadata": {},
   "outputs": [
    {
     "data": {
      "application/vnd.jupyter.widget-view+json": {
       "model_id": "2bd6f04fcb954dbebec4b988b3e7a4ab",
       "version_major": 2,
       "version_minor": 0
      },
      "text/plain": [
       "Pandas Apply:   0%|          | 0/44898 [00:00<?, ?it/s]"
      ]
     },
     "metadata": {},
     "output_type": "display_data"
    }
   ],
   "source": [
    "from spellchecker import SpellChecker\n",
    "import spacy\n",
    "import swifter\n",
    "import re\n",
    "\n",
    "spell = SpellChecker()\n",
    "nlp = spacy.load('en_core_web_sm')\n",
    "\n",
    "def extract_features(text):\n",
    "    doc = nlp(text)\n",
    "    word_count = len(text.split())\n",
    "    stopword_count = sum(1 for token in doc if token.is_stop)\n",
    "    punct_count = sum(1 for token in doc if token.is_punct)\n",
    "    ent_count = len(doc.ents)\n",
    "    misspelled = spell.unknown(text)  # Using `spell.unknown` to get misspelled words\n",
    "    wierd_symbols_count = len(misspelled)\n",
    "    \n",
    "    return word_count, stopword_count, punct_count, wierd_symbols_count, ent_count\n",
    "\n",
    "joined_df[['word_count', 'stopword_count', 'punct_count', 'wierd_symbols_count', 'ent_count']] = \\\n",
    "    joined_df['text'].swifter.apply(lambda text: extract_features(text)).apply(pd.Series)\n"
   ]
  },
  {
   "cell_type": "markdown",
   "id": "789af0b7",
   "metadata": {},
   "source": [
    "# Text processing"
   ]
  },
  {
   "cell_type": "code",
   "execution_count": null,
   "id": "10de0add",
   "metadata": {},
   "outputs": [
    {
     "data": {
      "application/vnd.jupyter.widget-view+json": {
       "model_id": "b74b8c43064c48a896bc9e0eecab4dec",
       "version_major": 2,
       "version_minor": 0
      },
      "text/plain": [
       "Pandas Apply:   0%|          | 0/44898 [00:00<?, ?it/s]"
      ]
     },
     "metadata": {},
     "output_type": "display_data"
    }
   ],
   "source": [
    "\n",
    "\n",
    "# '\\xad' soft hyphen | \\u200e  left to right symbol | \\u200a Unicode Character “ ” | \\u200b Zero-width space\n",
    "# \\u200f Right-to-Left Mark\n",
    "unwanted_symbols = ['–', '—', '‘', '“', '”', '•', '…', '☑', '➡', 'ツ',  '¯','°', '´', '¿', '\\xad', '\\u200e', '\\u200a', '\\u200b', '\\u200f']\n",
    "\n",
    "def process_text(text):\n",
    "    # Turkey’s -> Turkey's\n",
    "    text = re.sub(r'(?<=\\w)’(?=s)', \"'\", text)\n",
    "    # replace all whitespaces, including unicode spaces and tabs with regular space\n",
    "    pattern = '[' + re.escape(''.join(unwanted_symbols)) + ']'  # Escapes special regex characters\n",
    "    text = re.sub(pattern, '', text)    \n",
    "    text = re.sub(r'\\s', ' ', text)\n",
    "    doc = nlp(text)\n",
    "    sent = []\n",
    "    # check for stop words and punctuation\n",
    "    for token in doc:\n",
    "        if not token.is_punct and not token.is_stop:\n",
    "            sent.append(token.text)\n",
    "    \n",
    "    return ' '.join(sent)\n",
    "\n",
    "# use swifter for faster .apply()\n",
    "joined_df['processed_text'] = joined_df['text'].apply(process_text)\n",
    "\n",
    "joined_df.to_csv(\"copy.csv\")"
   ]
  },
  {
   "cell_type": "code",
   "execution_count": 14,
   "id": "f0bad8ac",
   "metadata": {},
   "outputs": [],
   "source": [
    "import sys\n",
    "sys.path.append(r'C:\\Users\\D.Ivanovas\\Desktop\\uni\\Fake-News')"
   ]
  },
  {
   "cell_type": "code",
   "execution_count": 15,
   "id": "b483e904fa56e22b",
   "metadata": {
    "ExecuteTime": {
     "end_time": "2024-11-05T10:58:57.250718Z",
     "start_time": "2024-11-05T10:58:56.517903Z"
    }
   },
   "outputs": [
    {
     "data": {
      "text/plain": [
       "'C:\\\\Users\\\\D.Ivanovas\\\\Desktop\\\\uni\\\\Fake-News\\\\data'"
      ]
     },
     "execution_count": 15,
     "metadata": {},
     "output_type": "execute_result"
    }
   ],
   "source": [
    "from paths import DATA_DIR\n",
    "import shutil\n",
    "\n",
    "shutil.move(str(path), str(DATA_DIR))"
   ]
  },
  {
   "cell_type": "code",
   "execution_count": null,
   "id": "7cb20c03cd2eb3c",
   "metadata": {},
   "outputs": [],
   "source": []
  }
 ],
 "metadata": {
  "kernelspec": {
   "display_name": "fake-news",
   "language": "python",
   "name": "python3"
  },
  "language_info": {
   "codemirror_mode": {
    "name": "ipython",
    "version": 3
   },
   "file_extension": ".py",
   "mimetype": "text/x-python",
   "name": "python",
   "nbconvert_exporter": "python",
   "pygments_lexer": "ipython3",
   "version": "3.12.7"
  }
 },
 "nbformat": 4,
 "nbformat_minor": 5
}

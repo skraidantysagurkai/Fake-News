{
 "cells": [
  {
   "cell_type": "code",
   "execution_count": 1,
   "id": "d0b5d8602830ecf",
   "metadata": {
    "ExecuteTime": {
     "end_time": "2024-11-05T10:58:31.241127Z",
     "start_time": "2024-11-05T10:58:30.822518Z"
    }
   },
   "outputs": [
    {
     "name": "stdout",
     "output_type": "stream",
     "text": [
      "Warning: Looks like you're using an outdated `kagglehub` version, please consider updating (latest version: 0.3.4)\n",
      "Path to dataset files: C:\\Users\\D.Ivanovas\\.cache\\kagglehub\\datasets\\clmentbisaillon\\fake-and-real-news-dataset\\versions\\1\n"
     ]
    }
   ],
   "source": [
    "import kagglehub\n",
    "# Download latest version\n",
    "path = kagglehub.dataset_download(\"clmentbisaillon/fake-and-real-news-dataset\")\n",
    "\n",
    "print(\"Path to dataset files:\", path)"
   ]
  },
  {
   "cell_type": "code",
   "execution_count": 2,
   "id": "ad6046c7",
   "metadata": {},
   "outputs": [],
   "source": [
    "import pandas as pd\n",
    "import os \n",
    "fake_df = pd.read_csv(os.path.join(path, 'fake.csv'))\n",
    "true_df = pd.read_csv(os.path.join(path, 'true.csv'))\n",
    "\n",
    "fake_df[\"label\"]=0\n",
    "true_df[\"label\"]=1\n",
    "\n",
    "joined_df = pd.concat([fake_df, true_df], axis=0, ignore_index=True) # sujungiam sulablintus datasetus\n",
    "joined_df = joined_df.sample(frac=1).reset_index(drop=True) # sushufflinam dataseta\n"
   ]
  },
  {
   "cell_type": "markdown",
   "id": "789af0b7",
   "metadata": {},
   "source": [
    "# Text processing"
   ]
  },
  {
   "cell_type": "code",
   "execution_count": null,
   "id": "10de0add",
   "metadata": {},
   "outputs": [
    {
     "ename": "IndentationError",
     "evalue": "expected an indented block after 'for' statement on line 13 (2873486216.py, line 14)",
     "output_type": "error",
     "traceback": [
      "\u001b[1;36m  Cell \u001b[1;32mIn[11], line 14\u001b[1;36m\u001b[0m\n\u001b[1;33m    doc = nlp(text)\u001b[0m\n\u001b[1;37m    ^\u001b[0m\n\u001b[1;31mIndentationError\u001b[0m\u001b[1;31m:\u001b[0m expected an indented block after 'for' statement on line 13\n"
     ]
    }
   ],
   "source": [
    "import spacy\n",
    "import swifter\n",
    "import re\n",
    "nlp = spacy.load('en_core_web_sm')\n",
    "\n",
    "# '\\xad' soft hyphen | \\u200e  left to right symbol | \\u200a Unicode Character “ ” | \\u200b Zero-width space\n",
    "# \\u200f Right-to-Left Mark\n",
    "unwanted_symbols = ['–', '—', '‘', '’', '“', '”', '•', '…', '☑', '➡', 'ツ',  '¯','°', '´', '¿', '\\xad', '\\u200e', '\\u200a', '\\u200b', '\\u200f']\n",
    "\n",
    "def process(text):\n",
    "    # replace all whitespaces, including unicode spaces and tabs with regular space\n",
    "    text = re.sub(r'\\s', ' ', text)\n",
    "    doc = nlp(text)\n",
    "    sent = []\n",
    "    # check for unwanted symbols, stop words and punctuation\n",
    "    for token in doc:\n",
    "        if token.text not in unwanted_symbols and not token.is_punct and not token.is_stop:\n",
    "            sent.append(token.text)\n",
    "    \n",
    "    return ' '.join(sent)\n",
    "\n",
    "# use swifter for faster .apply()\n",
    "joined_df['text'].swifter.apply(process)"
   ]
  },
  {
   "cell_type": "code",
   "execution_count": 7,
   "id": "e2e70547",
   "metadata": {},
   "outputs": [
    {
     "data": {
      "application/vnd.jupyter.widget-view+json": {
       "model_id": "b70732d581114b31b3fd893d41918d68",
       "version_major": 2,
       "version_minor": 0
      },
      "text/plain": [
       "Pandas Apply:   0%|          | 0/44898 [00:00<?, ?it/s]"
      ]
     },
     "metadata": {},
     "output_type": "display_data"
    },
    {
     "data": {
      "text/plain": [
       "0        None\n",
       "1        None\n",
       "2        None\n",
       "3        None\n",
       "4        None\n",
       "         ... \n",
       "44893    None\n",
       "44894    None\n",
       "44895    None\n",
       "44896    None\n",
       "44897    None\n",
       "Name: text, Length: 44898, dtype: object"
      ]
     },
     "execution_count": 7,
     "metadata": {},
     "output_type": "execute_result"
    }
   ],
   "source": [
    "from spellchecker import SpellChecker\n",
    "spell = SpellChecker()\n",
    "\n",
    "misspelled_words = []\n",
    "\n",
    "def check_misspell(text):\n",
    "    misspelled = spell.unknown(text)\n",
    "    misspelled_words.append(misspelled)\n",
    "    \n",
    "joined_df['text'].swifter.apply(check_misspell)"
   ]
  },
  {
   "cell_type": "code",
   "execution_count": 10,
   "id": "d38b69d9",
   "metadata": {},
   "outputs": [
    {
     "data": {
      "text/plain": [
       "{'\\t',\n",
       " ' ',\n",
       " '  https://www.youtube.com/watch?v=yrxmfmgoptk',\n",
       " 'https://www.youtube.com/watch?v=vkrctn0nevu',\n",
       " 'read more: daily mail',\n",
       " '\\xa0',\n",
       " '\\xad',\n",
       " '¯',\n",
       " '°',\n",
       " '´',\n",
       " '¿',\n",
       " 'à',\n",
       " 'á',\n",
       " 'â',\n",
       " 'ç',\n",
       " 'é',\n",
       " 'ê',\n",
       " 'í',\n",
       " 'ñ',\n",
       " 'ó',\n",
       " 'ô',\n",
       " 'ö',\n",
       " 'ú',\n",
       " 'ü',\n",
       " 'ā',\n",
       " 'ō',\n",
       " '\\u200a',\n",
       " '\\u200b',\n",
       " '\\u200e',\n",
       " '\\u200f',\n",
       " '–',\n",
       " '—',\n",
       " '‘',\n",
       " '’',\n",
       " '“',\n",
       " '”',\n",
       " '•',\n",
       " '…',\n",
       " '☑',\n",
       " '➡',\n",
       " 'ツ',\n",
       " '️'}"
      ]
     },
     "execution_count": 10,
     "metadata": {},
     "output_type": "execute_result"
    }
   ],
   "source": [
    "misspelled_words\n",
    "a = [i for row in misspelled_words for i in row]\n",
    "\n",
    "set(a)\n"
   ]
  },
  {
   "cell_type": "code",
   "execution_count": 14,
   "id": "f0bad8ac",
   "metadata": {},
   "outputs": [],
   "source": [
    "import sys\n",
    "sys.path.append(r'C:\\Users\\D.Ivanovas\\Desktop\\uni\\Fake-News')"
   ]
  },
  {
   "cell_type": "code",
   "execution_count": 15,
   "id": "b483e904fa56e22b",
   "metadata": {
    "ExecuteTime": {
     "end_time": "2024-11-05T10:58:57.250718Z",
     "start_time": "2024-11-05T10:58:56.517903Z"
    }
   },
   "outputs": [
    {
     "data": {
      "text/plain": [
       "'C:\\\\Users\\\\D.Ivanovas\\\\Desktop\\\\uni\\\\Fake-News\\\\data'"
      ]
     },
     "execution_count": 15,
     "metadata": {},
     "output_type": "execute_result"
    }
   ],
   "source": [
    "from paths import DATA_DIR\n",
    "import shutil\n",
    "\n",
    "shutil.move(str(path), str(DATA_DIR))"
   ]
  },
  {
   "cell_type": "code",
   "execution_count": null,
   "id": "7cb20c03cd2eb3c",
   "metadata": {},
   "outputs": [],
   "source": []
  }
 ],
 "metadata": {
  "kernelspec": {
   "display_name": "fake-news",
   "language": "python",
   "name": "python3"
  },
  "language_info": {
   "codemirror_mode": {
    "name": "ipython",
    "version": 3
   },
   "file_extension": ".py",
   "mimetype": "text/x-python",
   "name": "python",
   "nbconvert_exporter": "python",
   "pygments_lexer": "ipython3",
   "version": "3.12.7"
  }
 },
 "nbformat": 4,
 "nbformat_minor": 5
}

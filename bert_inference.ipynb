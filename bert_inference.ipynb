{
 "cells": [
  {
   "metadata": {
    "ExecuteTime": {
     "end_time": "2024-11-25T22:51:53.616917Z",
     "start_time": "2024-11-25T22:51:48.207615Z"
    }
   },
   "cell_type": "code",
   "source": [
    "import pandas as pd\n",
    "\n",
    "from paths import DATA_DIR\n",
    "\n",
    "df = pd.read_csv(DATA_DIR / 'final_final.csv')"
   ],
   "id": "c5c643d59a065cb3",
   "outputs": [],
   "execution_count": 1
  },
  {
   "metadata": {
    "ExecuteTime": {
     "end_time": "2024-11-25T22:51:53.622744Z",
     "start_time": "2024-11-25T22:51:53.618499Z"
    }
   },
   "cell_type": "code",
   "source": [
    "import re\n",
    "def process(text:str):\n",
    "    try:\n",
    "        media_loc = text.split('   ')[0]\n",
    "        other_text = ' '.join(text.split('   ')[1:])\n",
    "        if len(media_loc) < len(other_text):\n",
    "            text = other_text\n",
    "    except Exception as e:\n",
    "        media_loc = ''\n",
    "    text = re.sub(r'\\b[sS]\\b', '', text)\n",
    "    text = re.sub(r'\\s+', ' ', text).strip()\n",
    "    return text, media_loc"
   ],
   "id": "54370d2c24767c17",
   "outputs": [],
   "execution_count": 2
  },
  {
   "metadata": {
    "ExecuteTime": {
     "end_time": "2024-11-25T22:51:57.074151Z",
     "start_time": "2024-11-25T22:51:53.624790Z"
    }
   },
   "cell_type": "code",
   "source": [
    "processed_tuples = [process(f) for f in df.processed_text2.tolist()]\n",
    "text = [f[0] for f in processed_tuples]\n",
    "labels = df.label.tolist()"
   ],
   "id": "94f25b77338c84ea",
   "outputs": [],
   "execution_count": 3
  },
  {
   "metadata": {
    "ExecuteTime": {
     "end_time": "2024-11-25T22:52:07.224763Z",
     "start_time": "2024-11-25T22:51:57.076082Z"
    }
   },
   "cell_type": "code",
   "source": [
    "from transformers import DistilBertForSequenceClassification, DistilBertTokenizer\n",
    "from datasets import Dataset\n",
    "import torch\n",
    "\n",
    "data = {\"text\": text, \"label\": labels}\n",
    "dataset = Dataset.from_dict(data)\n",
    "train_test_split = dataset.train_test_split(test_size=0.2, seed=42)\n",
    "# train_dataset = train_test_split[\"train\"]\n",
    "val_dataset = train_test_split[\"test\"]\n",
    "\n",
    "X_val = val_dataset[\"text\"]\n",
    "y_val = val_dataset[\"label\"]\n",
    "\n",
    "device = torch.device(\"cuda\" if torch.cuda.is_available() else \"cpu\")\n",
    "print(device)\n",
    "\n",
    "model_path = \"checkpoint-1659\"\n",
    "tokenizer = DistilBertTokenizer.from_pretrained(model_path)\n",
    "model = DistilBertForSequenceClassification.from_pretrained(model_path)\n",
    "model.to(device)\n",
    "model.eval()  # Set the model to evaluation mode"
   ],
   "id": "7eaadb7edd4801e8",
   "outputs": [
    {
     "data": {
      "text/plain": [
       "DistilBertForSequenceClassification(\n",
       "  (distilbert): DistilBertModel(\n",
       "    (embeddings): Embeddings(\n",
       "      (word_embeddings): Embedding(30522, 768, padding_idx=0)\n",
       "      (position_embeddings): Embedding(512, 768)\n",
       "      (LayerNorm): LayerNorm((768,), eps=1e-12, elementwise_affine=True)\n",
       "      (dropout): Dropout(p=0.1, inplace=False)\n",
       "    )\n",
       "    (transformer): Transformer(\n",
       "      (layer): ModuleList(\n",
       "        (0-5): 6 x TransformerBlock(\n",
       "          (attention): DistilBertSdpaAttention(\n",
       "            (dropout): Dropout(p=0.1, inplace=False)\n",
       "            (q_lin): Linear(in_features=768, out_features=768, bias=True)\n",
       "            (k_lin): Linear(in_features=768, out_features=768, bias=True)\n",
       "            (v_lin): Linear(in_features=768, out_features=768, bias=True)\n",
       "            (out_lin): Linear(in_features=768, out_features=768, bias=True)\n",
       "          )\n",
       "          (sa_layer_norm): LayerNorm((768,), eps=1e-12, elementwise_affine=True)\n",
       "          (ffn): FFN(\n",
       "            (dropout): Dropout(p=0.1, inplace=False)\n",
       "            (lin1): Linear(in_features=768, out_features=3072, bias=True)\n",
       "            (lin2): Linear(in_features=3072, out_features=768, bias=True)\n",
       "            (activation): GELUActivation()\n",
       "          )\n",
       "          (output_layer_norm): LayerNorm((768,), eps=1e-12, elementwise_affine=True)\n",
       "        )\n",
       "      )\n",
       "    )\n",
       "  )\n",
       "  (pre_classifier): Linear(in_features=768, out_features=768, bias=True)\n",
       "  (classifier): Linear(in_features=768, out_features=2, bias=True)\n",
       "  (dropout): Dropout(p=0.2, inplace=False)\n",
       ")"
      ]
     },
     "execution_count": 4,
     "metadata": {},
     "output_type": "execute_result"
    }
   ],
   "execution_count": 4
  },
  {
   "metadata": {
    "ExecuteTime": {
     "end_time": "2024-11-25T23:21:59.693857Z",
     "start_time": "2024-11-25T23:15:36.224693Z"
    }
   },
   "cell_type": "code",
   "source": [
    "from tqdm import tqdm\n",
    "y_val_pred = []\n",
    "for text in tqdm(X_val, desc=\"Evaluating\"):\n",
    "    inputs = tokenizer(\n",
    "        text,\n",
    "        padding=True,\n",
    "        truncation=True,\n",
    "        max_length=512,\n",
    "        return_tensors=\"pt\"\n",
    "    )\n",
    "    inputs = {key: val.to(device) for key, val in inputs.items()}\n",
    "\n",
    "    with torch.no_grad():\n",
    "        outputs = model(**inputs)\n",
    "        logits = outputs.logits\n",
    "        probabilities = torch.softmax(logits, dim=-1)\n",
    "\n",
    "    y_val_pred.append(torch.argmax(probabilities, dim=-1).item())"
   ],
   "id": "467c8f75edb5ac6b",
   "outputs": [
    {
     "name": "stderr",
     "output_type": "stream",
     "text": [
      "Evaluating: 100%|██████████| 8836/8836 [06:23<00:00, 23.04it/s]\n"
     ]
    }
   ],
   "execution_count": 13
  },
  {
   "metadata": {
    "ExecuteTime": {
     "end_time": "2024-11-25T22:57:43.854309Z",
     "start_time": "2024-11-25T22:57:43.143851Z"
    }
   },
   "cell_type": "code",
   "source": [
    "from sklearn.metrics import accuracy_score, precision_score, recall_score, f1_score, classification_report, confusion_matrix\n",
    "\n",
    "print(f\"Acc: {accuracy_score(y_val, y_val_pred)}\")\n",
    "print(f\"Prec: {precision_score(y_val, y_val_pred)}\")\n",
    "print(f\"Recall: {recall_score(y_val, y_val_pred)}\")\n",
    "print(f\"F1: {f1_score(y_val, y_val_pred)}\\n\\n\")\n",
    "\n",
    "print(classification_report(y_val, y_val_pred))\n",
    "print(confusion_matrix(y_val, y_val_pred))"
   ],
   "id": "ef5d06c3255db22d",
   "outputs": [
    {
     "name": "stdout",
     "output_type": "stream",
     "text": [
      "Acc: 0.9972838388411046\n",
      "Prec: 0.9957953749124037\n",
      "Recall: 0.9985945186226283\n",
      "F1: 0.9971929824561403\n",
      "\n",
      "\n",
      "              precision    recall  f1-score   support\n",
      "\n",
      "           0       1.00      1.00      1.00      4567\n",
      "           1       1.00      1.00      1.00      4269\n",
      "\n",
      "    accuracy                           1.00      8836\n",
      "   macro avg       1.00      1.00      1.00      8836\n",
      "weighted avg       1.00      1.00      1.00      8836\n",
      "\n",
      "[[4549   18]\n",
      " [   6 4263]]\n"
     ]
    }
   ],
   "execution_count": 7
  },
  {
   "metadata": {
    "ExecuteTime": {
     "end_time": "2024-11-25T23:06:00.987330Z",
     "start_time": "2024-11-25T23:06:00.902023Z"
    }
   },
   "cell_type": "code",
   "source": [
    "import numpy as np\n",
    "import matplotlib.pyplot as plt\n",
    "import seaborn as sns\n",
    "\n",
    "# Confusion matrix values\n",
    "confusion_matrix = np.array([[4549, 18],\n",
    "                              [6, 4263]])\n",
    "\n",
    "# Class labels (adjust as needed)\n",
    "labels = [\"0\", \"1\"]\n",
    "\n",
    "# Create a heatmap\n",
    "plt.figure(figsize=(8, 6))\n",
    "sns.heatmap(confusion_matrix, annot=True, fmt='d', cmap='Blues', xticklabels=labels, yticklabels=labels,  cbar=False)\n",
    "\n",
    "# Add labels and title\n",
    "plt.xlabel(\"Priskirta klasė\", fontsize=14)\n",
    "plt.ylabel(\"Tikra klasė\", fontsize=14)\n",
    "\n",
    "# Show the plot\n",
    "plt.tight_layout()\n",
    "plt.show()"
   ],
   "id": "8b8a28cd6418c0bf",
   "outputs": [
    {
     "data": {
      "text/plain": [
       "<Figure size 800x600 with 1 Axes>"
      ],
      "image/png": "[encoded data removed]"
     },
     "metadata": {},
     "output_type": "display_data"
    }
   ],
   "execution_count": 11
  },
  {
   "metadata": {},
   "cell_type": "code",
   "outputs": [],
   "execution_count": null,
   "source": "",
   "id": "1c9b424752489017"
  }
 ],
 "metadata": {
  "kernelspec": {
   "display_name": "Python 3",
   "language": "python",
   "name": "python3"
  },
  "language_info": {
   "codemirror_mode": {
    "name": "ipython",
    "version": 2
   },
   "file_extension": ".py",
   "mimetype": "text/x-python",
   "name": "python",
   "nbconvert_exporter": "python",
   "pygments_lexer": "ipython2",
   "version": "2.7.6"
  }
 },
 "nbformat": 4,
 "nbformat_minor": 5
}
